{
 "cells": [
  {
   "cell_type": "markdown",
   "id": "07672678-8e7a-4048-87a5-9aea8297fcea",
   "metadata": {
    "tags": []
   },
   "source": [
    "## Bernoulli\n",
    "\n",
    "Consideremos un experimento con dos resultados posibles: éxito (E) y fracaso(F).\n",
    "\n",
    "El espacio de sucesos será $\\Omega = {0,1}$\n",
    "\n",
    "Suponemos que $P(E) = p$ y $P(E) = 1-p = q$\n",
    "\n",
    "A este tipo de experiemntos (éxisto/fracaso) se les denomina experimentos Bernoulli. Bajo estas condiciones diremos que $X$ es una v.a. Bernoulli que sigue una **ley de distribución de probabilidad Bernoulli** de parámetro p. La podemos denotar como $X \\sim Br(p)$ o $ X \\sim B(1,p)$\n",
    "\n",
    "Su PDF será :\n",
    "$$P_X(x) = P(X=x) = \n",
    "     \\begin{cases}\n",
    "       1-p = q &\\quad\\text{si } x = 0\\\\\n",
    "       p &\\quad\\text{si } x = 1 \\\\\n",
    "       0 &\\quad\\text{en otro caso}\\\\\n",
    "\\end{cases}$$\n",
    "\n",
    "Y su CDF:\n",
    "\n",
    "$$F_X(x) = P(X\\leq x) = \n",
    "     \\begin{cases}\n",
    "       0 &\\quad\\text{si }x \\leq 0\\\\\n",
    "       1-p = q &\\quad\\text{si }0 \\leq x \\leq 1 \\\\\n",
    "       1 &\\quad\\text{si } 1 \\leq x\\\\\n",
    "\\end{cases}$$\n",
    "\n",
    "Valor esperado es $$E(X) = \\sum_{x=0}^{1}x \\cdot P(X=x) = 0 \\cdot (1-p)+1 \\cdot p = p$$\n",
    "Cuadrado del valor esperado es $$E(X^2) = \\sum_{x=0}^{1}x^2 \\cdot P(X=x) = 0^2 \\cdot (1-p)+1^2 \\cdot p = p$$\n",
    "\n",
    "Varianza \n",
    "\n",
    "$$Var(X) = E(X^2)-E(X)^2 = p-p^2 = p \\cdot (1-p) = pq$$"
   ]
  },
  {
   "cell_type": "code",
   "execution_count": null,
   "id": "9563abac-b9f2-48c2-ba1c-9b62e725dddf",
   "metadata": {},
   "outputs": [],
   "source": []
  },
  {
   "cell_type": "markdown",
   "id": "5d603ac8-def8-4801-b2ba-d2fe666d39ab",
   "metadata": {
    "tags": []
   },
   "source": [
    "### Cálculos en Python"
   ]
  },
  {
   "cell_type": "code",
   "execution_count": 443,
   "id": "a7809652-b0a7-4cda-b613-52dcb2aefffc",
   "metadata": {},
   "outputs": [],
   "source": [
    "import numpy as np\n",
    "from scipy.stats import bernoulli\n",
    "import matplotlib.pyplot as plt\n",
    "\n",
    "# el parámetro loc de scipy se utiliza para desplazar el dominio de la v.a. Defalult = 0\n",
    "# binom.pmf(k,n,p,loc) = binom.pmf(k-loc,n,p)"
   ]
  },
  {
   "cell_type": "code",
   "execution_count": 444,
   "id": "fd5ecaf4-a788-41f1-ae09-3ad198d55eb2",
   "metadata": {},
   "outputs": [
    {
     "name": "stdout",
     "output_type": "stream",
     "text": [
      "Media =  0.25\n",
      "Mediana =  0.25\n",
      "Varianza =  0.1875\n",
      "Desviación típica =  0.4330127018922193\n",
      "Skewness =  1.1547005383792515\n",
      "Kurtosis =  -0.6666666666666665\n"
     ]
    }
   ],
   "source": [
    "# Probabilidad del suceso\n",
    "p = 0.25\n",
    "\n",
    "# valores estadísticos\n",
    "mean, var, skew, kurt = bernoulli.stats(p, moments = 'mvsk')\n",
    "\n",
    "# también se pueden obtener así\n",
    "#mean = bernoulli.mean(p)\n",
    "median = bernoulli.mean(p)\n",
    "#var = bernoulli.var(p)\n",
    "std = bernoulli.std(p)\n",
    "\n",
    "\n",
    "print(\"Media = \", mean)\n",
    "print(\"Mediana = \", median)\n",
    "print(\"Varianza = \", var)\n",
    "print(\"Desviación típica = \", std)\n",
    "print(\"Skewness = \", skew)\n",
    "print(\"Kurtosis = \", kurt)"
   ]
  },
  {
   "cell_type": "code",
   "execution_count": 445,
   "id": "291d776e-4b3e-4f44-a44f-e8b33c38d2b5",
   "metadata": {},
   "outputs": [
    {
     "data": {
      "text/plain": [
       "0.75"
      ]
     },
     "execution_count": 445,
     "metadata": {},
     "output_type": "execute_result"
    }
   ],
   "source": [
    "# La función de probabilidad es:\n",
    "# bernoulli.pmf(k) = 1-p  if k = 0\n",
    "#                  = p    if k = 1\n",
    "# for k in {0, 1}.\n",
    "\n",
    "bernoulli.pmf(p=0.25, k = 0)"
   ]
  },
  {
   "cell_type": "code",
   "execution_count": 446,
   "id": "30a04b01-c510-4669-8f3d-49abce82a68f",
   "metadata": {},
   "outputs": [
    {
     "data": {
      "text/plain": [
       "0.25"
      ]
     },
     "execution_count": 446,
     "metadata": {},
     "output_type": "execute_result"
    }
   ],
   "source": [
    "bernoulli.pmf(p=0.25, k = 1)"
   ]
  },
  {
   "cell_type": "code",
   "execution_count": 447,
   "id": "7e28b63e-e343-4d55-93a8-6b1d75edbf57",
   "metadata": {},
   "outputs": [
    {
     "data": {
      "text/plain": [
       "array([0, 0, 1, 0, 0, 0, 0, 0, 0, 0, 1, 1, 0, 0, 0, 0, 1, 0, 1, 1],\n",
       "      dtype=int64)"
      ]
     },
     "execution_count": 447,
     "metadata": {},
     "output_type": "execute_result"
    }
   ],
   "source": [
    "# generación de una muestra aleatoria simple (m.a.s.) simple random sampling\n",
    "bernoulli.rvs(p = 0.25, size=20, random_state=None)"
   ]
  },
  {
   "cell_type": "code",
   "execution_count": 448,
   "id": "a1b20bee-9885-4c7b-8224-ecd730bc1196",
   "metadata": {},
   "outputs": [
    {
     "data": {
      "text/plain": [
       "array([1, 1, 0, 1, 0, 1, 0, 1, 0, 1, 0, 1, 0, 0, 1, 1, 1, 0, 0, 0, 0, 1,\n",
       "       1, 0, 0, 0, 0, 1, 0, 1], dtype=int64)"
      ]
     },
     "execution_count": 448,
     "metadata": {},
     "output_type": "execute_result"
    }
   ],
   "source": [
    "# por ejemplo, tirar una moneda al aire 30 veces seria una bernuilli de p = 0.5\n",
    "bernoulli.rvs(p = 0.5, size=30, random_state=None)"
   ]
  },
  {
   "cell_type": "code",
   "execution_count": 449,
   "id": "c19e4f97-32dc-4d9a-9862-a30831b0f01d",
   "metadata": {
    "tags": [
     "dropdown"
    ]
   },
   "outputs": [
    {
     "data": {
      "image/png": "[encoded data removed]",
      "text/plain": [
       "<Figure size 1200x400 with 2 Axes>"
      ]
     },
     "metadata": {},
     "output_type": "display_data"
    }
   ],
   "source": [
    "# plot de PMF y CDF\n",
    "p = 0.25\n",
    "x = [0,1]\n",
    "\n",
    "fig, (ax1, ax2) = plt.subplots(1, 2, figsize = (12,4))\n",
    "\n",
    "ax1.plot(0,bernoulli.pmf(p = p, k = x[0]), color = 'b', marker='o',  label=r'$k=0$')\n",
    "ax1.vlines(0, 0, bernoulli.pmf(p=p, k = x[0]), colors='b', lw=0.5, alpha=0.5)\n",
    "\n",
    "ax1.plot(1,bernoulli.pmf(p = p, k = x[1]), color = 'b', marker='o', label=r'$k=1$')\n",
    "ax1.vlines(1, 0, bernoulli.pmf(p=p, k = x[1]), colors='b', lw=0.5, alpha=0.5)\n",
    "\n",
    "ax1.grid(alpha = 0.2)\n",
    "ax1.set_xlim([-1,2])\n",
    "ax1.set_ylim([0,1.05])\n",
    "ax1.set_title('Función de probabilidad (PMF)')\n",
    "\n",
    "ax2.scatter(x,bernoulli.cdf(p = p, k = x), color = 'b', marker='o')\n",
    "\n",
    "# Hay que modificar los arrays para plotear la función\n",
    "x_step = [0] + x + [2]\n",
    "y_step = [0] + list(bernoulli.cdf(p = p, k = x)) + [1]\n",
    "ax2.step(x_step, y_step, where='post', color ='b', lw = 0.5, alpha = 0.5)\n",
    "\n",
    "ax2.grid(alpha = 0.2)\n",
    "ax2.set_xlim([-1,2])\n",
    "ax2.set_title('Función de densidad (CDF)')\n",
    "ax2.set_ylim([0,1.05])\n",
    "\n",
    "plt.show()\n"
   ]
  },
  {
   "cell_type": "markdown",
   "id": "8304de7d-82ef-43b9-bcbd-a5acf5c2aba1",
   "metadata": {
    "tags": []
   },
   "source": [
    "# Binomial\n",
    "Si se repite $n$ veces de forma independiente un experimento de Bernoulli de parámetro $p$, el espacio muestral $\\Omega$ estará formado por cadenas de Es y Fs de longitud $n$.\n",
    "\n",
    "$$X( \\overbrace{EFFF...EEF}^n) = \\text{número de éxitos en la cadena}$$\n",
    "\n",
    "\n",
    "Su PDF será :\n",
    "$$P_X(x) = P(X=x) = \n",
    "     \\begin{cases}\n",
    "       \\binom{n}{x} \\cdot p^x \\cdot (1-p)^{n-x} &\\quad\\text{si } x = 0,1,...,n\\\\\n",
    "       0 &\\quad\\text{en otro caso}\\\\\n",
    "\\end{cases}$$\n",
    "\n",
    "Y su CDF:\n",
    "La función de distribución no tiene fórmula cerrada, hay que acumular la función de probabilidad.\n",
    "\n",
    "$$F_X(x) = P(X\\leq x) = \\sum^{x}_{i=0}P_X(i) =\n",
    "     \\begin{cases}\n",
    "       0 &\\quad\\text{si }x \\leq 0\\\\\n",
    "       \\sum^{k}_{i=0} \\binom{n}{i} \\cdot p^i \\cdot (1-p)^{n-1}&\\quad\\text{si}\n",
    "           \\begin{cases}\n",
    "           k \\leq x < k+1 \\\\\n",
    "           k=0,1,...,n\\\\\n",
    "           \\end{cases}\\\\\n",
    "       1 &\\quad\\text{si }  \\leq x\\\\\n",
    "\\end{cases}$$\n",
    "\n",
    "Esperanza:\n",
    "$$E(X) = \\sum_{k=0}^{n}k \\cdot \\binom{n}{k} \\cdot p^k \\cdot q^{n-k} = n \\cdot p $$\n",
    "$$E(X^2) = \\sum_{k=0}^{n}k^2 \\cdot \\binom{n}{k} \\cdot p^k \\cdot q^{n-k} = n \\cdot p \\cdot q-(n \\cdot p)^2$$\n",
    "\n",
    "Varianza:\n",
    "$$Var(X) = E(X^2)-E(X)^2 = n \\cdot p \\cdot q$$"
   ]
  },
  {
   "cell_type": "markdown",
   "id": "65d59101-63bc-40fb-95ac-7b962d4b1291",
   "metadata": {
    "tags": [
     "margin"
    ]
   },
   "source": [
    "Recordatorio de que $\\binom{n}{k} = \\frac{n!}{k!(n-k)!}$"
   ]
  },
  {
   "cell_type": "markdown",
   "id": "d07a5082-ed04-471d-ae47-6e6fc6932a5b",
   "metadata": {},
   "source": [
    "Las funciones de distribución de una binomial $B(n=1,p=0.3)$ y una Bernoulli $Be(p=0.3)$ coinciden."
   ]
  },
  {
   "cell_type": "code",
   "execution_count": 450,
   "id": "c3820e13-0ae1-45e5-8796-57970d10e9d7",
   "metadata": {},
   "outputs": [
    {
     "data": {
      "image/png": "[encoded data removed]",
      "text/plain": [
       "<Figure size 400x350 with 1 Axes>"
      ]
     },
     "metadata": {},
     "output_type": "display_data"
    }
   ],
   "source": [
    "# se tiene que una bernoulli es una binomial con n = 1\n",
    "\n",
    "x = [0,1]\n",
    "p = 0.3\n",
    "bercdf = bernoulli.cdf(p=p,k =  x)\n",
    "bincdf = binom.cdf(p=p,k =  x, n= 1)\n",
    "\n",
    "fig, ax = plt.subplots(1, 1, figsize = (4,3.5))\n",
    "\n",
    "# bernoulli\n",
    "plt.scatter(x, bercdf, color = 'b', linewidths = 2, label=r'$Be(p=0.3)$')\n",
    "x_step = [0] + x + [2]\n",
    "y_step = [0] + list(bercdf) + [1]\n",
    "ax.step(x_step, y_step, where='post', ls = '--',color ='b', lw = 1.2, alpha = 0.7)\n",
    "\n",
    "#binomial\n",
    "plt.scatter(x, bincdf, linewidths = 0.2, color = 'darkorange', label=r'$B(n=1,p=0.3)$')\n",
    "x_step = [0] + x + [2]\n",
    "y_step = [0] + list(bincdf) + [1]\n",
    "ax.step(x_step, y_step, where='post', ls = '--',color ='darkorange', lw = 3, alpha = 0.7)\n",
    "\n",
    "ax.grid(alpha =0.2)\n",
    "plt.legend()\n",
    "plt.title('Binomial n = 1 vs Bernoulli')\n",
    "plt.show()\n"
   ]
  },
  {
   "cell_type": "markdown",
   "id": "5da26016-d001-4dd3-aba8-43fb1d115719",
   "metadata": {
    "tags": []
   },
   "source": [
    "### Cálculos en Python"
   ]
  },
  {
   "cell_type": "code",
   "execution_count": 290,
   "id": "e66da4bb-04c5-4b8a-95c1-b756bff9927b",
   "metadata": {},
   "outputs": [
    {
     "name": "stdout",
     "output_type": "stream",
     "text": [
      "Media =  2.5\n",
      "Mediana =  2.5\n",
      "Varianza =  1.875\n",
      "Desviación típica =  1.3693063937629153\n",
      "Skewness =  0.3651483716701107\n",
      "Kurtosis =  -0.06666666666666667\n"
     ]
    }
   ],
   "source": [
    "from scipy.stats import binom\n",
    "\n",
    "# Probabilidad del suceso\n",
    "p = 0.25\n",
    "n = 10\n",
    "\n",
    "# valores estadísticos\n",
    "mean, var, skew, kurt = binom.stats(n,p, moments = 'mvsk')\n",
    "\n",
    "# también se pueden obtener así\n",
    "#mean = binom.mean(n,p)\n",
    "median = binom.mean(n,p)\n",
    "#var = binom.var(n,p)\n",
    "std = binom.std(n,p)\n",
    "\n",
    "\n",
    "print(\"Media = \", mean)\n",
    "print(\"Mediana = \", median)\n",
    "print(\"Varianza = \", var)\n",
    "print(\"Desviación típica = \", std)\n",
    "print(\"Skewness = \", skew)\n",
    "print(\"Kurtosis = \", kurt)"
   ]
  },
  {
   "cell_type": "code",
   "execution_count": 296,
   "id": "335b699e-7667-426b-81b6-19f71baac9f7",
   "metadata": {},
   "outputs": [
    {
     "data": {
      "text/plain": [
       "0.056313514709472656"
      ]
     },
     "execution_count": 296,
     "metadata": {},
     "output_type": "execute_result"
    }
   ],
   "source": [
    "# Probabilidad de sacar 0 éxitos (F_X(0) = P(X =0))\n",
    "binom.pmf(n=10,k=0,p=0.25)"
   ]
  },
  {
   "cell_type": "markdown",
   "id": "438a3956-64b7-4824-933e-c2a8dfea4818",
   "metadata": {},
   "source": [
    "Evidentemente, la probabilidad de que la v.a. tome el valor 0 (osea, de sacar 0 éxitos, $P(X=0$), es la misma que la probabilidad de que la v.a. tome el valor 0 o inferior (es decir, de sacar 0 éxitos o menos, $P(X \\leq 0)$. \n",
    "Por eso, la función de probabilidad y la de densidad dan lo mismo para $k=0$."
   ]
  },
  {
   "cell_type": "code",
   "execution_count": 297,
   "id": "4c2aa4a2-eb85-419b-bede-7dfc5a9e30ff",
   "metadata": {},
   "outputs": [
    {
     "data": {
      "text/plain": [
       "0.056313514709472684"
      ]
     },
     "execution_count": 297,
     "metadata": {},
     "output_type": "execute_result"
    }
   ],
   "source": [
    "# Probabilidad de sacar 0 \"o menos\" éxitos (F_X(0) = P(X <=0))\n",
    "binom.cdf(n=10,k=0,p=0.25)"
   ]
  },
  {
   "cell_type": "code",
   "execution_count": 293,
   "id": "bd374cf0-fa97-4dc8-b2b8-033573d190d3",
   "metadata": {},
   "outputs": [
    {
     "data": {
      "text/plain": [
       "0.9218730926513672"
      ]
     },
     "execution_count": 293,
     "metadata": {},
     "output_type": "execute_result"
    }
   ],
   "source": [
    "# Probabilidad de sacar 4 éxitos o menos(F_X(4) = P(X <=4))\n",
    "binom.cdf(n=10,k=4,p=0.25)"
   ]
  },
  {
   "cell_type": "code",
   "execution_count": 298,
   "id": "1b680fe1-dcc5-4e53-ba53-0e581e787441",
   "metadata": {},
   "outputs": [
    {
     "data": {
      "text/plain": [
       "0.14599800109863273"
      ]
     },
     "execution_count": 298,
     "metadata": {},
     "output_type": "execute_result"
    }
   ],
   "source": [
    "# Probabilidad de sacar 4 éxitos (F_X(4) = P(X =4))\n",
    "binom.pmf(n=10,k=4,p=0.25)"
   ]
  },
  {
   "cell_type": "code",
   "execution_count": 302,
   "id": "def82db2-5f2e-4bd9-ac47-d0649aae12a8",
   "metadata": {},
   "outputs": [
    {
     "data": {
      "text/plain": [
       "array([ 9,  8, 11, 10, 10, 10, 12, 13,  9, 12, 16, 11, 10, 13,  5, 12, 12,\n",
       "        7, 13,  9, 13,  9, 11, 12, 11, 13,  7,  8,  9, 12, 10, 11,  7,  8,\n",
       "        9,  9,  6, 12, 11,  6, 13, 12,  5,  3, 11, 11, 11,  9, 11,  8, 14,\n",
       "       10, 11, 10,  9, 11, 11,  9, 12, 11, 13, 10,  7,  8, 14,  9,  9, 11,\n",
       "        8, 12,  9, 16,  6,  9, 12, 13,  8, 11, 10, 10, 13, 15,  5, 13, 10,\n",
       "       12,  9, 12, 13,  8,  7, 11, 11,  9,  8, 12, 14,  8, 13,  9],\n",
       "      dtype=int64)"
      ]
     },
     "execution_count": 302,
     "metadata": {},
     "output_type": "execute_result"
    }
   ],
   "source": [
    "# generación de una muestra aleatoria simple (m.a.s.) simple random sampling\n",
    "# de 100 valores con una población B(20,0.5)\n",
    "\n",
    "# Este ejemplo correspondería a repetir 100 veces el experimento de lanzar una moneda \n",
    "#al aire 20 veces y contar el número de caras\n",
    "\n",
    "binom.rvs(n = 20,p = 0.5, size=100, random_state=None)"
   ]
  },
  {
   "cell_type": "code",
   "execution_count": 442,
   "id": "9a40547f-adba-41df-96e6-1828b5465053",
   "metadata": {},
   "outputs": [
    {
     "data": {
      "image/png": "[encoded data removed]",
      "text/plain": [
       "<Figure size 1200x400 with 2 Axes>"
      ]
     },
     "metadata": {},
     "output_type": "display_data"
    }
   ],
   "source": [
    "import numpy as np\n",
    "\n",
    "n,p = 10, 0.25\n",
    "x = np.arange(binom.ppf(0.01, n, p), binom.ppf(0.99, n, p))\n",
    "\n",
    "fig, (ax1, ax2) = plt.subplots(1, 2, figsize = (12,4))\n",
    "\n",
    "ax1.plot(x, binom.pmf(x,n,p), 'bo', label = 'binom pmf')\n",
    "ax1.vlines(x, 0, binom.pmf(x,n,p), colors = 'b', lw = 0.5, alpha = 0.8)\n",
    "ax1.set_title('Función de probabilidad')\n",
    "\n",
    "ax2.plot(x, binom.cdf(x,n,p), 'bo', label = 'binom cdf')\n",
    "x_step = [0] + list(x) + [6]\n",
    "y_step = [0] + list(binom.cdf(x,n,p)) + [1]\n",
    "ax2.step(x_step, y_step, where='post', ls = '--',color ='b', lw = 0.5, alpha = 0.7)\n",
    "ax2.set_title('Función de densidad')\n",
    "\n",
    "ax1.grid(alpha = 0.2)\n",
    "ax2.grid(alpha = 0.2)\n",
    "fig.suptitle('Distribución Binomial')\n",
    "plt.show()"
   ]
  },
  {
   "cell_type": "markdown",
   "id": "4658a0d2-1883-4164-8b06-921a931ffc6b",
   "metadata": {},
   "source": [
    "Ejemplo: Número de bolas rojas extraidas de una urna con reposición.\n",
    "\n",
    "Tenemos una urna con 100 bolas de las cuales 40 son rojas y 60 blancas. extraemos al azara una bola, anotamos su color y la devolvemos a la urna.Supongamos que repetimos este proceso $n = 10$ veces.\n",
    "\n",
    "Consideremos la v.a. $X = \\text{número de bolas rojas extraídas (con reposición)}$ en $n=10$ repeticiones del mismo experimento de Bernoulli. Bajo estas condiciones tenemos una repetición de un proceso de Bernoulli con probabilidad de éxito de:\n",
    "$$P(roja) = P(éxito) = 0.4$$\n",
    "\n",
    "Asi que la v.a. sigue una ley Binomial $B(n=10,p=0.4)$"
   ]
  },
  {
   "cell_type": "markdown",
   "id": "6cf29592-886d-46b1-ae3c-c6af6f70f10d",
   "metadata": {},
   "source": [
    "###### 1. Probabilidad de sacar exactamente 4 rojas\n",
    "$$P_X(X=4) = \\binom{10}{4} 0.4^4 (1-0.4)^{10-4}$$"
   ]
  },
  {
   "cell_type": "code",
   "execution_count": 399,
   "id": "136f2d8d-49da-438d-9b1d-df4bfb7f2286",
   "metadata": {},
   "outputs": [
    {
     "name": "stdout",
     "output_type": "stream",
     "text": [
      "P(X=4) =\tcon formula: 0.25082 \tcon scipy 0.25082\n"
     ]
    }
   ],
   "source": [
    "# 1. Probabilidad de sacar exactamente 4 rojas\n",
    "from math import comb\n",
    "\n",
    "formula = comb(10,4) * 0.4**4 * (1-0.4)**(10-4)\n",
    "pmf = binom.pmf(k = 4, n=10, p=0.4)\n",
    "\n",
    "print(f'P(X=4) =\\tcon formula: {formula:.5f} \\tcon scipy {pmf:.5f}')"
   ]
  },
  {
   "cell_type": "markdown",
   "id": "2855458b-62fa-4674-bf03-9db2d9906257",
   "metadata": {},
   "source": [
    "###### 2. Probabilidad de sacar al menos 4 rojas\n",
    "Al menos 4 rojas es $P(X \\geq 4) = 1-P(X<4) = 1-P(X \\leq 3)$\n",
    "\n",
    "$$P(X \\leq 3) = P(X=0)+P(X=1)+P(X=2)+P(X=3)$$ "
   ]
  },
  {
   "cell_type": "code",
   "execution_count": 400,
   "id": "1e1ff33b-5cb5-4b2c-9879-2a42b2f007d6",
   "metadata": {},
   "outputs": [
    {
     "name": "stdout",
     "output_type": "stream",
     "text": [
      "P(X>=4) =\tcon formula: 0.61772 \tcon scipy 0.61772\n"
     ]
    }
   ],
   "source": [
    "# 2. Probabilidad de sacar al menos 4 rojas\n",
    "sumatorio = 0\n",
    "for i in range(4):\n",
    "    formula = comb(10,i) * 0.4**i * (1-0.4)**(10-i)\n",
    "    sumatorio = sumatorio + formula\n",
    "\n",
    "resultado = 1-sumatorio\n",
    "cdf = 1-binom.cdf(k =3 , n=10, p=0.4)\n",
    "\n",
    "print(f'P(X>=4) =\\tcon formula: {resultado:.5f} \\tcon scipy {cdf:.5f}')"
   ]
  },
  {
   "cell_type": "markdown",
   "id": "71ee230e-ec9b-4579-86eb-b68c23f78b60",
   "metadata": {},
   "source": [
    "###### 3. Probabilidad de sacar menos de 3 rojas\n",
    "\n",
    "$$P(X<3) = P(X \\leq 2) = P(X=0)+P(X=1)+P(X=2)$$"
   ]
  },
  {
   "cell_type": "code",
   "execution_count": 401,
   "id": "50166a72-50fa-4a05-904c-6503379d468d",
   "metadata": {},
   "outputs": [
    {
     "name": "stdout",
     "output_type": "stream",
     "text": [
      "P(X<3) =\tcon formula: 0.16729 \tcon scipy 0.16729\n"
     ]
    }
   ],
   "source": [
    "# 3. Probabilidad de sacar menos de 3 rojas\n",
    "sumatorio = 0\n",
    "for i in range(3):\n",
    "    formula = comb(10,i) * 0.4**i * (1-0.4)**(10-i)\n",
    "    sumatorio = sumatorio + formula\n",
    "\n",
    "cdf = binom.cdf(k=2 , n=10, p=0.4)\n",
    "\n",
    "print(f'P(X<3) =\\tcon formula: {sumatorio:.5f} \\tcon scipy {cdf:.5f}')"
   ]
  },
  {
   "cell_type": "markdown",
   "id": "83a728b4-2eb8-45dc-b4b8-4b4d186bd2fb",
   "metadata": {},
   "source": [
    "###### 4. Valor esperado del número de bolas rojas\n",
    "$$E(X) = \\sum_{k=0}^{n}k \\cdot \\binom{n}{k} \\cdot p^k \\cdot q^{n-k} = n \\cdot p $$\n"
   ]
  },
  {
   "cell_type": "code",
   "execution_count": 406,
   "id": "cde4dd4b-b9d2-40d9-910a-77dd0f018c7e",
   "metadata": {},
   "outputs": [
    {
     "name": "stdout",
     "output_type": "stream",
     "text": [
      "P(X<3) =\tcon formula: 4.000 \tcon scipy 4.000\n"
     ]
    }
   ],
   "source": [
    "# 4. Valor esperado del número de bolas rojas\n",
    "n = 10\n",
    "p=0.4\n",
    "E = n*p\n",
    "Esci = binom(n,p).mean()\n",
    "#Esci = binom.stats(n,p, moments = 'm')\n",
    "\n",
    "print(f'P(X<3) =\\tcon formula: {E:.3f} \\tcon scipy {Esci:.3f}')"
   ]
  },
  {
   "cell_type": "markdown",
   "id": "4efd5a3f-a164-431d-86ce-bdcc7a1f6362",
   "metadata": {},
   "source": [
    "###### 5. Desviación típica del número de bolas rojas\n",
    "\n",
    "$$Var(X) = E(X^2)-E(X)^2 = n \\cdot p \\cdot q$$"
   ]
  },
  {
   "cell_type": "code",
   "execution_count": 407,
   "id": "2e79f04f-b563-4524-b256-15cdde1586e6",
   "metadata": {},
   "outputs": [
    {
     "name": "stdout",
     "output_type": "stream",
     "text": [
      "E(X) =\tcon formula: 1.549 \tcon scipy 1.549\n"
     ]
    }
   ],
   "source": [
    "# 5. Desviación típica del número de bolas rojas\n",
    "var = n*p*(1-p)\n",
    "std = np.sqrt(var)\n",
    "std_sci = np.sqrt(binom(n,p).var())\n",
    "#std_sci = binom.stats(n,p, moments = 'v')\n",
    "\n",
    "print(f'E(X) =\\tcon formula: {std:.3f} \\tcon scipy {std_sci:.3f}')"
   ]
  },
  {
   "cell_type": "markdown",
   "id": "381bf1e0-8649-4d4f-ad74-7020f756662d",
   "metadata": {},
   "source": [
    "# Geométrica\n",
    "\n",
    "Si repetimos un experimento Bernoulli de parámetro $p$, de forma independiente hasta obtener el primer éxito, la v.a. $X$ que cuenta el número de fracasos antes del primer éxito es una variable geométrica.\n",
    "\n",
    "Por ejemplo, que hayamos tenido $x$ fracasos será una cadena de fracasos culminada con un éxito:\n",
    "$$P( \\overbrace{FFF...F}^xE) = P(F)^x \\cdot P(E) = (1-p)^x \\cdot p = q^x \\cdot p$$\n",
    "\n",
    "De una v.a. como esta diremos que sigue una distribución geométrica de parámetro $p$ y la denotaremos por $Ge(p)$.\n",
    "\n",
    "Su dominio es $D_X = {0,1,2,...}$, podría ser hasta $\\infty$, porque podría ser que *nunca* obtuviésemos un éxito y tendríamos que seguir intentandolo hasta que saliese un éxito.\n",
    "\n",
    "\n",
    "\n",
    "Su PDF será :\n",
    "$$P_X(x) = P(X=x) = \n",
    "     \\begin{cases}\n",
    "       (1-p)^x \\cdot p^x \\cdot (1-p)^{n-x} &\\quad\\text{si } x = 0,1,... \\\\\n",
    "       0 &\\quad\\text{en otro caso}\\\\\n",
    "\\end{cases}$$\n"
   ]
  },
  {
   "cell_type": "markdown",
   "id": "d27bb72e-2d12-4ed7-a537-26ab7ed19b08",
   "metadata": {},
   "source": [
    "Ejemplo\n",
    "\n",
    "Calculemos $P(x \\leq 3)$.\n",
    "\n",
    "Por la propiedad del suceso complementario, la probabilidad de que la v.a. sea igual o inferior a 3, es lo mismo que 1- la probabilidad de que la v.a. sea mayor a 3, que es lo mismo que 1- la probabilidad de que la v.a. sea 4 o mayor.\n",
    "\n",
    "$$P(X \\leq 3) = 1-P(X>3) = 1-P(X \\geq 4)$$\n",
    "\n",
    "Efectivamente, el evento de que $X > 3$ es que hemos fracasado más de 3 veces hasta conseguir el primer éxito; es decir, **hemos fracasado 4 o más veces**. Por tanto:\n",
    "\n",
    "$${X>3} = {X \\geq 4} = {FFFF}$$\n",
    "\n",
    "Al ser sucesos independientes, tenemos que :\n",
    "$$\n",
    " \\begin{align}\n",
    " {X>3} = P({FFFF}) = P(F) \\cdot P(F) \\cdot P(F) \\cdot P(F) \\\\\n",
    " (1-p) \\cdot (1-p) \\cdot (1-p) \\cdot (1-p)  = (1-p)^{3+1} \\\\\n",
    " = (1-p)^4\n",
    "\\end{align}$$\n",
    "\n",
    "Calculamos:\n",
    "$$F_X(3) = P(X \\leq 3) = 1-P(X>3) = 1-(1-p)^{3+1}$$\n",
    "\n",
    "Generalizando para cualquier otro entero positivo $k = 0,1,2,...$ se obtiene se CDF:\n",
    "\n",
    "$$F_X(x) = P(X\\leq x)  =\n",
    "     \\begin{cases}\n",
    "       0 &\\quad\\text{si }x < 0\\\\\n",
    "       1-(1-p)^{k+1} &\\quad\\text{si}\n",
    "           \\begin{cases}\n",
    "           k \\leq x < k+1 \\\\\n",
    "           \\text{para }k=0,1,...\\\\\n",
    "           \\end{cases}\\\\\n",
    "\\end{cases}$$\n",
    "\n",
    "Esperanza\n",
    "\n",
    "$$E(X) = \\sum^{+ \\infty}_{x=0} x \\cdot P_x(x) = \\sum^{+ \\infty}_{x=0} x \\cdot (1-p)^x \\cdot p =  p \\cdot (1-p) \\cdot \\sum^{+ \\infty}_{x=0}  \\cdot (1-p)^{x-1}=  p \\cdot (1-p) \\cdot \\frac{1}{(1-(1-p))^2} = p \\cdot (1-p)  \\frac{1}{p^2} = \\frac{1-p}{p}$$\n",
    "\n",
    "\n",
    "Varianza\n",
    "no voy a hacer el desarrollo\n",
    "$$Var(X) = E(X^2)-E(X)^2 =\\frac{1-p}{p^2}$$\n",
    "\n",
    "Su CDF será:\n",
    "$$F_Y(y ) = P(X\\leq x)  =\n",
    "     \\begin{cases}\n",
    "       0 &\\quad\\text{si }x < 0\\\\\n",
    "       1-(1-p)^{k+1} &\\quad\\text{si}\n",
    "           \\begin{cases}\n",
    "           k \\leq x < k+1 \\\\\n",
    "           \\text{para }k=0,1,...\\\\\n",
    "           \\end{cases}\\\\\n",
    "\\end{cases}$$"
   ]
  },
  {
   "cell_type": "markdown",
   "id": "dd20bfb0-44c4-466b-b206-abd2a8f60e8a",
   "metadata": {},
   "source": [
    " En lugar de contar el número de fracasos, queremos contar el número de intentos, no es tán distinto, porque el número de intentos siempre es uno más que el número de fracasos, siempre se intenta 1 vez más.\n",
    " \n",
    " Si definimos $Y = \\text{número de intentos para obtener el primer éxito}$, entonces, $Y = X+1$, donde $X \\sim Ge(p)$. Es decir, hacemos una transformación lineal de la v.a. $X$.\n",
    "    \n",
    "Si el dominio de $X$ era $D_X = \\{0,1,2,...\\}$, entonces, el dominio de $Y$ será $D_Y = \\{1,2,...\\}$.\n",
    "\n",
    "La media se incrementa en un intento debido al éxito:\n",
    "$$E(X) = E(X+1) = E(X) +1 = \\frac{1-p}{p}+1 = \\frac{1}{p}$$\n",
    "\n",
    "La varianza es la misma:\n",
    "$$Var(Y) = Var(X+1) = Var(X) = \\frac{1-p}{p^2}$$"
   ]
  },
  {
   "cell_type": "markdown",
   "id": "b322842e-8834-421a-b262-0763051fa012",
   "metadata": {},
   "source": [
    "## Propiedad de la falta de memoria\n",
    "\n",
    "La propiedad de falta de memoria nos dice que por mucho que hayamos esperado o intentado $j$ veces en nuestro experimento, la probabilidad de tener que fallar todavía $k$ veces más es la misma que si solo lo intentáramos esas $k$ veces.\n",
    "\n",
    "$$P(X>k+j|X \\geq j) = P(X>k)$$\n",
    "\n",
    "Es decir, que el número de veces que voy a fallar hasta el primer éxito, no está condicionado por las veces que llevamos probando. Osea que es la misma que si empezase de nuevo el experimento.\n",
    "\n",
    "Ejemplo\n",
    "\n",
    "Tenemos un llavero con 10 llaves, solo una de ellas abre la puerta. Cada vez que probamos una llave y falla olvidamos que llave hemos probado. ¿Cuál es la probabilidad de que si ya lo hemos intentado 5 veces necesitemos más de 4 intentos adicionales para abrir la puerta?\n",
    "\n",
    "Tomando $k=4$, $j=5$ y aplicando la propiedad de falta de memoria:\n",
    "\n",
    "$$P(X > 4+5 |X \\leq 5) = P(X > 4)$$\n",
    "\n",
    "Después de 5 fracasos *no estamos más cerca de abrir la puerta*. La propiedad de falta de memoria nos dice que **después de cada intento, es como si empezásemos de nuevo a abrir la puerta**. Tras 5 fracasos la probabilidad de que fallemos más de 4 veces más es la misma.\n",
    "\n",
    "¿Cuál es número de fracasos esperado hasta abrir la puerta?\n",
    "$$E(X) = \\frac{1-p}{p}=\\frac{1- \\frac{1}{10}}{\\frac{1}{10}} = \\frac{\\frac{9}{10}}{\\frac{1}{10}}=9$$\n",
    "\n",
    "La varianza es:\n",
    "\n",
    "$$Var(X) = \\frac{1-p}{p^2} = \\frac{1- \\frac{1}{10}}{(\\frac{1}{10})^2}=\\frac{\\frac{9}{10}}{\\frac{1}{100}}=90$$"
   ]
  },
  {
   "cell_type": "markdown",
   "id": "1b7afb17-e322-42e9-9d03-7c4c9a2fe66b",
   "metadata": {},
   "source": [
    "## Ejemplo: el clásico de fútbol\n",
    "\n",
    "Sea $X$ la v.a. que cuenta el número de veces consecutivas que en un partido de fútbol de la liga el Barça no al Madrid, sea en el Camp Nou o el Bernabeu.\n",
    "\n",
    "Si quiero saber cuantos partidos consecutivos de *el clásico* tengo que ver hasta ver ganar al Barçs por primera vez. Queremos estimar cuanto nos va a costar ese capricho.\n",
    "\n",
    "Tendré que comprar las entradas y pagar los viajes de Barcelona a Madrid.\n",
    "\n",
    "En wikipedia están los datos históricos de *el clásico* hasta el 3 de marzo de 2019: se han jugado 178 clásicos en los que el Madrid ganó en 72 ocasiones, el Barça en 72 y empataron 34 veces.\n",
    "\n",
    "Nos hacemos las siguientes preguntas:\n",
    "\n",
    "1. Si solo tengo dinero para ir a ver 3 partidos, ¿cuál es la probabilidad de no ver ganar al Barça en al menos tres partidos consecutivos?\n",
    "2. ¿Cuántos partidos se tienen que jugar de media para ver ganar al Barça por primera vez?\n",
    "\n",
    "Con los datos anteriores, se puede estimas la probabilidad de que el Barça gane un clásico cualquiera:\n",
    "$$P(Barça) = \\frac{72}{178}=0.4045$$\n",
    "\n",
    "Por tanto, podemos modelar la v.a. $X$, que cuenta el número de veces consecutivas que en un partido de fútbol de la liga el Barça no gana al Madrid, con una ley geométrica empezando en cero con probabilidad de éxito $p = P(Barça) =0.4045$\n",
    "\n",
    "$$X \\sim Ge(p=0.4045)$$\n",
    "\n",
    "La probabilidad de **no ver ganar al barsa en al menos 3 partidos** es:\n",
    "$$P(X \\geq 3) = 1 - P(X \\leq 2) = 1-(1-(1-\\frac{72}{178})^{2+1})=0.211$$\n",
    "\n",
    "Hay un 21.12% de probabilidades de no ver ganar al Barça en al menos 3 partidos antes de ver uno en el que sí gane. \n",
    "\n",
    "Para responder a la segunda pregunta:\n",
    "\n",
    "$$E(X)=\\frac{1-p}{p}=\\frac{1-0.4045}{0.4045}=1.4722$$\n",
    "\n",
    "$$Var(X)=\\frac{1-p}{p^2}=\\frac{1-0.4045}{0.4045^2}=3.6397$$"
   ]
  },
  {
   "cell_type": "markdown",
   "id": "eb816a9b-6092-40ec-80d8-e8c51f2a39c0",
   "metadata": {},
   "source": [
    "## Cálculos con python\n",
    "\n",
    "La de python no es como la de R. La de R comienza en 0, la de Python comienza en 1. \n",
    "\n",
    "La función de probabilidad por defecto en python es `geom.pmf(x,p,loc=0)`. Esta es una geométrica que cuenta el número de intentos para obtener el primer éxito.\n",
    "\n",
    "Si queremos la que cuenta el número de fracasos para obtener el primer éxito (la geométrica que empieza en 0), hay que usar `geom.pmf(x,p,loc=-1)`\n",
    "\n",
    "Es decir, `geom.pmf(x,p,loc=-1)=geom.pmf(x-1,p,loc=0)`."
   ]
  },
  {
   "cell_type": "code",
   "execution_count": 412,
   "id": "6bdda66d-8b47-4a61-965d-81e244150da5",
   "metadata": {},
   "outputs": [
    {
     "name": "stdout",
     "output_type": "stream",
     "text": [
      "Media =  4.0\n",
      "Mediana =  4.0\n",
      "Varianza =  12.0\n",
      "Desviación típica =  3.4641016151377544\n",
      "Skewness =  2.0207259421636903\n",
      "Kurtosis =  6.083333333333333\n"
     ]
    }
   ],
   "source": [
    "from scipy.stats import geom\n",
    "\n",
    "# Probabilidad del suceso\n",
    "p = 0.25\n",
    "\n",
    "# valores estadísticos\n",
    "mean, var, skew, kurt = geom.stats(p, moments = 'mvsk')\n",
    "\n",
    "# también se pueden obtener así\n",
    "#mean = geom.mean(p)\n",
    "median = geom.mean(p)\n",
    "#var = geom.var(p)\n",
    "std = geom.std(p)\n",
    "\n",
    "\n",
    "print(\"Media = \", mean)\n",
    "print(\"Mediana = \", median)\n",
    "print(\"Varianza = \", var)\n",
    "print(\"Desviación típica = \", std)\n",
    "print(\"Skewness = \", skew)\n",
    "print(\"Kurtosis = \", kurt)"
   ]
  },
  {
   "cell_type": "code",
   "execution_count": 433,
   "id": "41a45394-6d84-473e-86f0-febde60ce6a0",
   "metadata": {},
   "outputs": [
    {
     "data": {
      "text/plain": [
       "(0.25, 0.25)"
      ]
     },
     "execution_count": 433,
     "metadata": {},
     "output_type": "execute_result"
    }
   ],
   "source": [
    "# Probabilidad de sacar 0 éxitos (F_X(0) = P(X =0)) de una Ge(p=0.25)\n",
    "# que es lo mismo que P(X <=0)\n",
    "geom.pmf(k = 1, p=0.25),geom.pmf(k = 0, p=0.25,loc=-1)"
   ]
  },
  {
   "cell_type": "markdown",
   "id": "9dd5f975-649a-4dc9-9a3e-fff78c2d3a92",
   "metadata": {},
   "source": [
    "$$P(X = 0) = (1-0.25)^0 \\cdot 0.25^1 = 0.25$$\n",
    "$$P(X \\leq 0) = 1- (1-0.25)^{0+1}  = 1-0.75= 0.25$$"
   ]
  },
  {
   "cell_type": "code",
   "execution_count": 434,
   "id": "ed8b5f68-f60e-4266-9de2-4d81a5964fab",
   "metadata": {},
   "outputs": [
    {
     "data": {
      "text/plain": [
       "(0.7626953125, 0.7626953125)"
      ]
     },
     "execution_count": 434,
     "metadata": {},
     "output_type": "execute_result"
    }
   ],
   "source": [
    "# Probabilidad de sacar 0 éxitos P(X <=4) de una Ge(p=0.25)\n",
    "geom.cdf(k = 5, p=0.25),geom.cdf(k = 4, p=0.25, loc = -1)"
   ]
  },
  {
   "cell_type": "markdown",
   "id": "c39e8a26-00d8-4718-82c0-c49f6f40813e",
   "metadata": {},
   "source": [
    "$$P(X \\leq 4) = 1- (1-0.25)^{4+1}  = 1-0.75^5= 0.7626$$"
   ]
  },
  {
   "cell_type": "code",
   "execution_count": 436,
   "id": "65e3829d-9d6b-4618-9c99-95f9b42b35d5",
   "metadata": {},
   "outputs": [
    {
     "name": "stdout",
     "output_type": "stream",
     "text": [
      "[ 1  5  1  0  1  1  3  2  1  2  0  4  7 16  0  3  5  1  2  1  5  1  0  3\n",
      "  0]\n",
      "Es decir, la primera vez, fracasamos 1 veces hasta el primer éxito, la segunda vez 5 veces, la tercera vez 1 veces...\n"
     ]
    }
   ],
   "source": [
    "# generación de una muestra aleatoria simple (m.a.s.) simple random sampling\n",
    "# número de veces que fracasamos hasta el primer éxito. \n",
    "array = geom.rvs(p = 0.25, size=25,loc = -1, random_state=None)\n",
    "print(array)\n",
    "print(f\"Es decir, la primera vez, fracasamos {array[0]} veces hasta el primer éxito, la segunda vez {array[1]} veces, la tercera vez {array[2]} veces...\")"
   ]
  },
  {
   "cell_type": "code",
   "execution_count": 441,
   "id": "a6c7bd86-920d-4389-82bc-a7a0e8256d43",
   "metadata": {},
   "outputs": [
    {
     "data": {
      "image/png": "[encoded data removed]",
      "text/plain": [
       "<Figure size 1200x400 with 2 Axes>"
      ]
     },
     "metadata": {},
     "output_type": "display_data"
    }
   ],
   "source": [
    "p = 0.25\n",
    "x = np.arange(geom.ppf(0.01, p), geom.ppf(0.99, p))\n",
    "\n",
    "fig, (ax1, ax2) = plt.subplots(1, 2, figsize = (12,4))\n",
    "\n",
    "ax1.plot(x, geom.pmf(x,p), 'bo', label = 'binom pmf')\n",
    "ax1.vlines(x, 0, geom.pmf(x,p), colors = 'b', lw = 0.5, alpha = 0.8)\n",
    "ax1.set_title('Función de probabilidad')\n",
    "\n",
    "ax2.plot(x, geom.cdf(x,p), 'bo', label = 'binom pmf')\n",
    "x_step = [0] + list(x) + [17]\n",
    "y_step = [0] + list(geom.cdf(x,p)) + [1]\n",
    "ax2.step(x_step, y_step, where='post', ls = '--',color ='b', lw = 0.5, alpha = 0.7)\n",
    "ax2.set_title('Función de densidad')\n",
    "\n",
    "ax1.grid(alpha = 0.2)\n",
    "ax2.grid(alpha = 0.2)\n",
    "fig.suptitle('Distribución Geométrica')\n",
    "plt.show()"
   ]
  },
  {
   "cell_type": "code",
   "execution_count": null,
   "id": "83a125f0-c893-4aec-8e8b-268f51d8ec35",
   "metadata": {},
   "outputs": [],
   "source": []
  }
 ],
 "metadata": {
  "kernelspec": {
   "display_name": ".venv",
   "language": "python",
   "name": ".venv"
  },
  "language_info": {
   "codemirror_mode": {
    "name": "ipython",
    "version": 3
   },
   "file_extension": ".py",
   "mimetype": "text/x-python",
   "name": "python",
   "nbconvert_exporter": "python",
   "pygments_lexer": "ipython3",
   "version": "3.10.8"
  }
 },
 "nbformat": 4,
 "nbformat_minor": 5
}
