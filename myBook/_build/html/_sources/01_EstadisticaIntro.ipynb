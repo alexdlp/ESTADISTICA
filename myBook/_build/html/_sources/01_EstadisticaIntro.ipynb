{
 "cells": [
  {
   "cell_type": "code",
   "execution_count": null,
   "metadata": {},
   "outputs": [],
   "source": []
  },
  {
   "cell_type": "markdown",
   "metadata": {},
   "source": [
    "# prueba 1"
   ]
  },
  {
   "cell_type": "markdown",
   "metadata": {},
   "source": []
  }
 ],
 "metadata": {
  "kernelspec": {
   "display_name": "Python 3.10.7 ('.venv': pipenv)",
   "language": "python",
   "name": "python3"
  },
  "language_info": {
   "name": "python",
   "version": "3.10.7"
  },
  "orig_nbformat": 4,
  "vscode": {
   "interpreter": {
    "hash": "26fccf25cf6bb8b48c33f8fb25e7bf15becfb434061a1f86f604a0db0d8d46d2"
   }
  }
 },
 "nbformat": 4,
 "nbformat_minor": 2
}
