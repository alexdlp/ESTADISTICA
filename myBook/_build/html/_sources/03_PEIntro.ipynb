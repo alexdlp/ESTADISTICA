{
 "cells": [
  {
   "cell_type": "markdown",
   "metadata": {},
   "source": [
    "# Procesos estocásticos\n",
    "\n",
    "* Introducción 2h\n",
    "* Procesos de Poisson 6h\n",
    "* Procesos de renovación 6h\n",
    "* Cadenas de Markov en tiempo discreto 6h\n",
    "* Cadenas de Markov en tiempo continuo 6h\n"
   ]
  },
  {
   "cell_type": "markdown",
   "metadata": {},
   "source": [
    "## Introducción a los procesos estocásticos\n",
    "\n",
    "Los procesos estocásticos tratan de modelizar situaciones que cambian en el tiempo y cuya evolución está sometida a las reglas del azar.\n",
    "\n",
    "Desde un punto de vista matemático, un proceso estocástico es un conjunto de variables aleatorias $Z_t$ que pertenecen a un índice temporal $I$.\n",
    "\n",
    "$$ \\{Z_t, t \\in I\\} $$\n",
    "\n",
    "Es decir, los instantes de tiempo en donde se observa el proceso están contenidos en el intervalo temporal $I$.\n",
    "\n",
    "$Z_t$ es una variable aleatoria que puede representar:\n",
    "\n",
    "* el número de clientes en una cola en el instante $t$\n",
    "* precio de un activo financiero en el instante $t$\n",
    "* el número de reclamaciones que recibe una compañia en el instante $t$\n",
    "\n",
    "````{admonition} Minirepaso del concepto de espacio probabilístico\n",
    "\n",
    "Un espacio probabilístico  $(\\Omega, \\mathcal{F}, P)$  está compuesto de:\n",
    "\n",
    "```{margin}\n",
    "En el caso de un dado: $\\Omega = \\{1,2,3,4,5,6\\}$\n",
    "```\n",
    "\n",
    "* $\\Omega$: conjunto de posibles resultados de un experimento. \n",
    "```{margin}\n",
    "Ejemplo: $A \\in \\mathcal{F} $ siendo $A = \\{número \\hspace{1em} par\\}$\n",
    "```\n",
    "* $\\mathcal{F}$: familia de subconjuntos/sucesos asociados al experimento. \n",
    "* $P$: Función de probabilidad definida sobre la familia de sucesos. \n",
    "\n",
    "```{margin}\n",
    "$A$ tiene una probabilidad asociada $P(A)$\n",
    "```\n",
    "\n",
    "$$\\begin{split}\n",
    "P:\\mathcal{F}  \\rightarrow [0,1] \\\\\n",
    "A \\rightsquigarrow P(A)\n",
    "\\end{split}$$\n",
    "````"
   ]
  },
  {
   "cell_type": "markdown",
   "metadata": {},
   "source": [
    "### Procesos en tiempo discreto y continuo\n",
    "\n",
    "En un proceso estocástico lo que tenemos sobre el espacio probabilístico son variables aleatorias $Z_t$ definidas sobre $\\Omega$ y que toman valores en $\\mathbb{R}$, habiendo una variable aleatoria $Z_t$ para cada $t \\in I$\n",
    "\n",
    "$$Z_t:\\Omega \\rightarrow \\mathbb{R} $$ \n",
    "\n",
    "donde $Z_t$ es la variable que estamos observando en el instante $t$ (precio, número de personas en cola...) y que nos indica el ***estado*** del sistema en dicho instante.\n",
    "\n",
    "El conjunto de índices $I$ suele ser un subconjunto de $[0,\\infty]$. \n",
    "\n",
    "* Si $I$ toma valores discretos ($I = {0,1,2,...}$) se dice que es un proceso en **tiempo discreto**:\n",
    "    * $Z_t$: número de clientes atendidos en una tienda el día $t$-ésimo\n",
    "    * $Z_t$: lluvia o no eun una localidad el día $t$-ésimo\n",
    "    * $Z_t$: precio en bolsa de un activo financiero **al final** del día $t$-ésimo\n",
    "* Si $I$ toma valores continuos ($I = [0,\\infty]$) se dice que es un proceso en **tiempo continuo**:\n",
    "    * $Z_t$: número de clientes esperando en una cola en el instante $t$\n",
    "    * $Z_t$: número de reclamaciones en una compañía de seguros hasta el isntante $t$\n",
    "    * $Z_t$: precio en bolsa de un activo financiero en un instante de tiempo $t$"
   ]
  },
  {
   "cell_type": "markdown",
   "metadata": {},
   "source": [
    "```{admonition} Ejemplo sencillo de un proceso estocástico\n",
    ":class: dropdown\n",
    "Lanzo un dado 30 veces y anoto los resultados\n",
    "\n",
    "* El espacio muestral $\\Omega = \\{(w_1, ..., w_{30}\\}$, donde $w_t$ es el resultado del lanzamiento en el momento $t$.\n",
    "\n",
    "* $\\mathcal{F}$: familia de sucesos, partes de $\\Omega$\n",
    "\n",
    "Por ejemplo, si quisiesemos saber la probabilidad de que en todos los lanzamiento saliese un número par:\n",
    "        \n",
    "* El suceso sería: $A = \\{salir \\hspace{0.5em} par \\hspace{0.5em} siempre\\}$\n",
    "* Este suceso $A$ pertenecería a la familia de sucesos $\\mathcal{F}$, $A \\in \\mathcal{F} $\n",
    "* El suceso $A$ tendría una probabilidad asociada $P(A)$ ( que sería igual a multiplicar $P({número \\hspace{0.5em} par})$) por las veces que hayamos tirado el dado, en este caso 30. En este caso podemos hacer esto porque ***no tenemos correlación*** entre las distintas variables aleatorias $w_t$\n",
    "\n",
    "El Proceso Estocástico sería el siguiente:\n",
    "\n",
    "$$\n",
    "\\begin{split}\n",
    "Z_t : \\Omega  \\Rightarrow \\mathbb{R} \\\\\n",
    "w \\Rightarrow w_t\n",
    "\\end{split}\n",
    "$$\n",
    "```"
   ]
  },
  {
   "cell_type": "markdown",
   "metadata": {},
   "source": [
    "### Espacio de estados discretos y continuos \n",
    "\n",
    "El espacio de estados $E$ es el subconjunto de $\\mathbb{R}$ que contiene todos los valores posibles de las variables aleatorias.\n",
    "\n",
    "Esto *CREO* que es lo mismo que el dominio. Esta profe le llama distinto pero conceptualmente es lo mismo. En el lanzamiento de un dado, las variables aleatorias toman valores en $\\mathbb{R}$, pero el espacio de estados es $\\{1,2,3,4,5,6\\}$\n",
    "\n",
    "Según los valores que pueda tomar el espacoio de estados, este será discreto o continuo:\n",
    "\n",
    "* Procesos con espacio de estados $E$ **discreto**:\n",
    "    * Número de clientes esperando en una cola: $E= 1,2,...$\n",
    "    * Registros diarios de lluvias: $E = \\{0(no \\hspace{0.5}em lluvia), 1 (lluvia)\\}\n",
    "* Procesos con espacio de estados $E$ **continuo**:\n",
    "    * Precio en bolsa de un activo financiero: $E = [0, \\infty)$\n",
    "    * Temperaturas máximas diarias en una localidad:  $E = [0, \\infty)$"
   ]
  },
  {
   "cell_type": "markdown",
   "metadata": {},
   "source": [
    "### Trayectorias de un proceso\n",
    "\n",
    "Si estamos observando un proceso, en cada instante de tiempo, podemos anotar lo que ha sucedido.\n",
    "\n",
    "Dado un elemento del espacio muestral $w \\in \\Omega$, una trayectoria del proceso está constituída por los valores concretos que que va tomando el proceso sobre ese elemento del espacio muestral para cada instante de tiempo $\\{Z_t(w), t \\in I\\}$\n",
    "\n",
    "También se le puede llamar función muestral o realización. Vamos con un example:\n",
    "\n",
    "\n",
    "IMAGEN\n",
    "\n",
    "Para el ejemplo de la imagen, el inicio $0$ correspondería con el instante en el que abrimos la compañía. La trayectoria desde $0$ hasta $T_1$ sería de 0 reclamaciones.\n",
    "Después de que pase un tiempo aleatorio $t_1$ llega la primera reclamación, y el contador sube a 1. Se mantiene en 1 hasta que pasa otro tiempo aleatorio $t_2$ en el que llega la segunda reclamación. \n",
    "\n",
    "Es decir, la trayectoria asociada a este proceso que describe el número de reclamaciones hasta el instante $t$ es **una función** que va pegando saltos en instantes aleatorios dependiendo de cuando sucedan las reclamaciones."
   ]
  },
  {
   "cell_type": "markdown",
   "metadata": {},
   "source": [
    "### Distribuciones de probabilidad asociadas a un proceso\n",
    "\n",
    "Cuando trabajamos con estas cosas, lo primero que tengo que hacer es definir lo que es un proceso estocástico.\n",
    "\n",
    "Después ya puedo calcular las probabilidades asociadas a ese proceso. Para ello hay que saber:\n",
    "\n",
    "* **Cómo se distribuyen las variables aleatorias**\n",
    "* **Cómo se relacionan entre sí**\n",
    "\n",
    "De esta manera, un proceso estocástico se describe mediante sus distribuciones finito-dimensionales.\n",
    "Es decir, dados instantes de tiempo pertenecientes al intervalo temporal, hay que indicar la distribución de las variables $(Z_{t_1},..., Z_{t_n})$\n",
    "\n",
    "$$(Z_{t_1},..., Z_{t_n}), \\hspace{0.5em} para \\hspace{0.5em} t_1,...,t_n \\in I $$\n",
    "\n",
    "Si describo la distribución de probabilidades finito-dimensionales para cualesquiera intantes de tiempoy cualesquiera variables, hayaremos las distribuciones del proceso.\n",
    "\n",
    "Para los casos más sencillos me vale con dar la **distribución de cada $Z_t$**, (se le llama marginal-unidimensional) y **especificar las relaciones de dependencia** de las variables del proceso.\n",
    "\n",
    "```{admonition} Por ejemplo\n",
    ":class: dropdown\n",
    "$Z_t$ resultado de del lanzamiento del dado en el instante $t$ pues ya sé que es una variable que toma los valores $\\{1,2,3,4,5,6\\}$ con $P = 1/6$. Eso sería la marginal unidimensional de cada $Z_t$.\n",
    "\n",
    "Y luego, para hacer cálculos globales que relacionen las variables del proceso, necesitaré especificar las relaciones de dependencia de las variables del proceso.\n",
    "\n",
    "En el ejemplo del dado es sencillo porque simplemente diciendo que todas las variables del proceso son independientes podría hacer cualquier cálculo.\n",
    "\n",
    "La probabilidad de salir par en todos los lanzamientos es igual al producto de la probabilidad de salir par en cada lanzamiento concreto. (Porque las variables son **independientes**)\n",
    "\n",
    "Entonces, sabiendo la distribución de las variables y su relación, ya podría calcular cualquier cosa de ese proceso.\n",
    "\n",
    "Normalmente las cosas no van a ser tan sencillas como en este ejemplo, porque las variables suelen tener relaciones de dependencia.\n",
    "```\n"
   ]
  },
  {
   "cell_type": "markdown",
   "metadata": {},
   "source": [
    "## Distribuciones de un proceso. Poisson\n",
    "El proceso de Poisson es un proceso:\n",
    "* en tiempo continuo $I = [0,\\infty)$\n",
    "* con espacio de estados discreto $E = 1,2,...$\n",
    "\n",
    "Es un proceso especialmente adecuado para describir, por ejemplo, el número de reclamaciones de una compañia de seguros.\n",
    "\n",
    "¿Cómo lo definimos? Las variables del proceso, que serán el número de reclamaciones recibidas hasta el instante $t$ verificará:\n",
    "\n",
    "* El incremento de reclamaciones entre dos instantes de tiempo $(Z_{t_2}-Z_{t_1})$ es una distrinbución de Poisson de parámetro $\\lambda(t_1-t_2)$\n",
    "* Los incrementos del proceso son independientes\n",
    "\n",
    "De alguna manera, el proceso de Poisson ya tiene relaciones de dependencia entre las variables, pero el hecho de que los incrementos sean independientes, me facilitará mucho la tarea de hacer cálculos."
   ]
  },
  {
   "cell_type": "markdown",
   "metadata": {},
   "source": [
    "### Cuestiones de existencia\n",
    "\n",
    "A esta parte tampoco hay que hacerle mucho caso, es un poco fumada.\n",
    "\n",
    "Una vez espacifiquemos las distribuciones del proceso hay que asegurarse de **la existencia** de ese proceso estocástico para poder estudiarlo matematicamente. Para eso debemos encontrar:\n",
    "\n",
    "* Un espacio probabilístico $(\\Omega,\\mathcal{F} ,P)$\n",
    "* Sobre ese espacio probabilistico tendría que ser capaz de definir un conjunto de variables aleatorias $Z_t$ de forma que sus distribuciones finito dimensionales sean las asociadas a $(Z_{t_1},..., Z_{t_n}), \\hspace{0.5em} para \\hspace{0.5em} t_1,...,t_n \\in I $\n",
    "\n",
    "¿Cómo construímos procesos estocásticos? Hay un par de maneras:\n",
    "\n",
    "* Con construcciones ad-hoc: Procesos de Poisson, Cadenas de Markov, Movimiento Browniano\n",
    "* Resultados generales sobre la existencia: Teorema de Kolmogorov. Este teorema dice que que si asignas las probabilidades de modo consistente, viene el señor kolmogorov en persona a tu casa a garantizarte que existe un espacio probabilistico para que tu proceso estocastico se desarrolle tranquilamente. \n",
    "\n",
    "Pero vamos, que no es mi lucha."
   ]
  },
  {
   "cell_type": "markdown",
   "metadata": {},
   "source": [
    "## El proceso de Poisson\n",
    "\n",
    "El proceso de Poisson es un proceso de recuento.\n",
    "\n",
    "Un proceso de recuento es un proceso en tiempo continuo tal que $(N(t), t \\geq 0)$\n",
    "\n",
    "$N(t)$ puede representar:\n",
    "* número de coches que pasan por un determinado punto de una carretera\n",
    "* número de clientes que llegan a una tienda \n",
    "* número de reclamaciones de una compañia de seguros\n",
    "\n",
    "Es decir, un proceso de recuento es una sucesion de variables aleatorias $N(t)$ cuyo espacio de estados es $\\{0,1,2,3,...\\}$ porque van contando las cosas que pasan hasta un instante de tiempo.\n",
    "\n",
    "Pare definir algo que cuente las cosas que pasan hasta un instante de tiempo, ¿cuáles son las propiedades que le vamos a requerir a ese algo?\n",
    "* $N(0) \\geq 0$\n",
    "* $N(t)$ toman valores en $\\mathbb{N}$, en los naturales.\n",
    "* El proceso de recuento me cuenta lo que ha sucedido hasta el instante $t$, luego si un instante $s$ tal que $s < t$, entonces $N(s) < N(t)$. (Vamos que si estoy sentado en un banco contando los coches que pasan, no pueden haber pasado 50 el primer minuto, y 10 en el siguiente, el conteo siempre es ascendente)\n",
    "* Para $s<t$, $N(t)-N(s)$ cuenta el número de sucesos que hN ocurrido en el intervalo $(s, t]$\n",
    "\n",
    "Dado un proceso de recuento $(N(t), t \\geq 0)$ vamos a hablar de dos propiedades que debe tener un proceso de Poisson, aunque estas propiedades también pueden describir un proceso estocástico general.\n",
    "\n",
    "1. $(N(t), t \\geq 0)$ tiene **incrementos independientes** si haY independencia entre el número de sucesos ocurridos en intervalos de tiempo disjuntos. Esto es: dados cualesquiera $n$ instantes de tiempo $0 \\leq t_1 < t_2 <...<t_n$, las variables $N(t_2)-N(t_1),...,N(t_n)-N(t_1)$ son independientes."
   ]
  },
  {
   "cell_type": "markdown",
   "metadata": {},
   "source": []
  }
 ],
 "metadata": {
  "kernelspec": {
   "display_name": "Python 3.10.7 64-bit",
   "language": "python",
   "name": "python3"
  },
  "language_info": {
   "name": "python",
   "version": "3.10.7"
  },
  "orig_nbformat": 4,
  "vscode": {
   "interpreter": {
    "hash": "b927943075216497242b89ad1a9bd3d0b69fd13ad0ada2aaf539a2f19e604df0"
   }
  }
 },
 "nbformat": 4,
 "nbformat_minor": 2
}
