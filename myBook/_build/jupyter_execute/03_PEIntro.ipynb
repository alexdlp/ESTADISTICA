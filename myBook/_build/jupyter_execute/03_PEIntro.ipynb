{
 "cells": [
  {
   "cell_type": "markdown",
   "metadata": {},
   "source": [
    "# Procesos estocásticos\n",
    "\n",
    "* Introducción 2h\n",
    "* Procesos de Poisson 6h\n",
    "* Procesos de renovación 6h\n",
    "* Cadenas de Markov en tiempo discreto 6h\n",
    "* Cadenas de Markov en tiempo continuo 6h\n"
   ]
  },
  {
   "cell_type": "markdown",
   "metadata": {},
   "source": [
    "## Introducción a los procesos estocásticos\n",
    "\n",
    "Los procesos estocásticos tratan de modelizar situaciones que cambian en el tiempo y cuya evolución está sometida a las reglas del azar.\n",
    "\n",
    "Desde un punto de vista matemático, un proceso estocástico es un conjunto de variables aleatorias $Z_t$ que pertenecen a un índice temporal $I$.\n",
    "\n",
    "$$ \\{Z_t, t \\in I\\} $$\n",
    "\n",
    "Es decir, los instantes de tiempo en donde se observa el proceso están contenidos en el intervalo temporal $I$.\n",
    "\n",
    "$Z_t$ es una variable aleatoria que puede representar:\n",
    "\n",
    "* el número de clientes en una cola en el instante $t$\n",
    "* precio de un activo financiero en el instante $t$\n",
    "* el número de reclamaciones que recibe una compañia en el instante $t$\n",
    "\n",
    "````{admonition} Minirepaso del concepto de espacio probabilístico\n",
    "\n",
    "Un espacio probabilístico  $(\\Omega, \\mathcal{F}, P)$  está compuesto de:\n",
    "\n",
    "```{margin}\n",
    "En el caso de un dado: $\\Omega = \\{1,2,3,4,5,6\\}$\n",
    "```\n",
    "\n",
    "* $\\Omega$: conjunto de posibles resultados de un experimento. \n",
    "```{margin}\n",
    "Ejemplo: $A \\in \\mathcal{F} $ siendo $A = \\{número \\hspace{1em} par\\}$\n",
    "```\n",
    "* $\\mathcal{F}$: familia de subconjuntos/sucesos asociados al experimento. \n",
    "* $P$: Función de probabilidad definida sobre la familia de sucesos. \n",
    "\n",
    "```{margin}\n",
    "$A$ tiene una probabilidad asociada $P(A)$\n",
    "```\n",
    "\n",
    "$$\\begin{split}\n",
    "P:\\mathcal{F}  \\rightarrow [0,1] \\\\\n",
    "A \\rightsquigarrow P(A)\n",
    "\\end{split}$$\n",
    "````"
   ]
  },
  {
   "cell_type": "markdown",
   "metadata": {},
   "source": [
    "### Procesos en tiempo discreto y continuo\n",
    "\n",
    "En un proceso estocástico lo que tenemos sobre el espacio probabilístico son variables aleatorias $Z_t$ definidas sobre $\\Omega$ y que toman valores en $\\mathbb{R}$, habiendo una variable aleatoria $Z_t$ para cada $t \\in I$\n",
    "\n",
    "$$Z_t:\\Omega \\rightarrow \\mathbb{R} $$ \n",
    "\n",
    "donde $Z_t$ es la variable que estamos observando en el instante $t$ (precio, número de personas en cola...) y que nos indica el ***estado*** del sistema en dicho instante.\n",
    "\n",
    "El conjunto de índices $I$ suele ser un subconjunto de $[0,\\infty]$. \n",
    "\n",
    "* Si $I$ toma valores discretos ($I = {0,1,2,...}$) se dice que es un proceso en **tiempo discreto**:\n",
    "    * $Z_t$: número de clientes atendidos en una tienda el día $t$-ésimo\n",
    "    * $Z_t$: lluvia o no eun una localidad el día $t$-ésimo\n",
    "    * $Z_t$: precio en bolsa de un activo financiero **al final** del día $t$-ésimo\n",
    "* Si $I$ toma valores continuos ($I = [0,\\infty]$) se dice que es un proceso en **tiempo continuo**:\n",
    "    * $Z_t$: número de clientes esperando en una cola en el instante $t$\n",
    "    * $Z_t$: número de reclamaciones en una compañía de seguros hasta el isntante $t$\n",
    "    * $Z_t$: precio en bolsa de un activo financiero en un instante de tiempo $t$"
   ]
  },
  {
   "cell_type": "markdown",
   "metadata": {},
   "source": [
    "```{admonition} Ejemplo sencillo de un proceso estocástico\n",
    ":class: dropdown\n",
    "Lanzo un dado 30 veces y anoto los resultados\n",
    "\n",
    "* El espacio muestral $\\Omega = \\{(w_1, ..., w_{30}\\}$, donde $w_t$ es el resultado del lanzamiento en el momento $t$.\n",
    "\n",
    "* $\\mathcal{F}$: familia de sucesos, partes de $\\Omega$\n",
    "\n",
    "Por ejemplo, si quisiesemos saber la probabilidad de que en todos los lanzamiento saliese un número par:\n",
    "        \n",
    "* El suceso sería: $A = \\{salir \\hspace{0.5em} par \\hspace{0.5em} siempre\\}$\n",
    "* Este suceso $A$ pertenecería a la familia de sucesos $\\mathcal{F}$, $A \\in \\mathcal{F} $\n",
    "* El suceso $A$ tendría una probabilidad asociada $P(A)$ ( que sería igual a multiplicar $P({número \\hspace{0.5em} par})$) por las veces que hayamos tirado el dado, en este caso 30. En este caso podemos hacer esto porque ***no tenemos correlación*** entre las distintas variables aleatorias $w_t$\n",
    "\n",
    "El Proceso Estocástico sería el siguiente:\n",
    "\n",
    "$$\n",
    "\\begin{split}\n",
    "Z_t : \\Omega  \\Rightarrow \\mathbb{R} \\\\\n",
    "w \\Rightarrow w_t\n",
    "\\end{split}\n",
    "$$\n",
    "```"
   ]
  },
  {
   "cell_type": "markdown",
   "metadata": {},
   "source": [
    "### Espacio de estados discretos y continuos \n",
    "\n",
    "El espacio de estados $E$ es el subconjunto de $\\mathbb{R}$ que contiene todos los valores posibles de las variables aleatorias.\n",
    "\n",
    "Esto *CREO* que es lo mismo que el dominio. Esta profe le llama distinto pero conceptualmente es lo mismo. En el lanzamiento de un dado, las variables aleatorias toman valores en $\\mathbb{R}$, pero el espacio de estados es $\\{1,2,3,4,5,6\\}$.\n",
    "\n",
    "Según los valores que pueda tomar el espacoio de estados, este será discreto o continuo:\n",
    "\n",
    "* Procesos con espacio de estados $E$ **discreto**:\n",
    "    * Número de clientes esperando en una cola: $E= 1,2,...$\n",
    "    * Registros diarios de lluvias: $E = \\{0(no \\hspace{0.5em} lluvia), 1 (lluvia)\\}$\n",
    "* Procesos con espacio de estados $E$ **continuo**:\n",
    "    * Precio en bolsa de un activo financiero: $E = [0, \\infty)$\n",
    "    * Temperaturas máximas diarias en una localidad:  $E = [0, \\infty)$"
   ]
  },
  {
   "cell_type": "markdown",
   "metadata": {},
   "source": [
    "### Trayectorias de un proceso\n",
    "\n",
    "Si estamos observando un proceso, en cada instante de tiempo, podemos anotar lo que ha sucedido.\n",
    "\n",
    "Dado un elemento del espacio muestral $w \\in \\Omega$, una trayectoria del proceso está constituída por los valores concretos que que va tomando el proceso sobre ese elemento del espacio muestral para cada instante de tiempo $\\{Z_t(w), t \\in I\\}$\n",
    "\n",
    "También se le puede llamar función muestral o realización. Vamos con un example:"
   ]
  },
  {
   "cell_type": "markdown",
   "metadata": {},
   "source": [
    "````{admonition}\n",
    "\n",
    "```{figure} ./images/plot1.jpg\n",
    "---\n",
    "scale: 90%\n",
    "align: left\n",
    "---\n",
    "```{sidebar}\n",
    "Para el ejemplo de la imagen, el inicio $0$ correspondería con el instante en el que abrimos la compañía. La trayectoria desde $0$ hasta $T_1$ sería de 0 reclamaciones.\n",
    "Después de que pase un tiempo aleatorio $t_1$ llega la primera reclamación, y el contador sube a 1. Se mantiene en 1 hasta que pasa otro tiempo aleatorio $t_2$ en el que llega la segunda reclamación. \n",
    "\n",
    "Es decir, la trayectoria asociada a este proceso que describe el número de reclamaciones hasta el instante $t$ es **una función** que va pegando saltos en instantes aleatorios dependiendo de cuando sucedan las reclamaciones.\n",
    "```\n",
    "\n",
    "````"
   ]
  },
  {
   "cell_type": "markdown",
   "metadata": {
    "tags": [
     "sidebar"
    ]
   },
   "source": [
    "```{sidebar}\n",
    "Para el ejemplo de la imagen, el inicio $0$ correspondería con el instante en el que abrimos la compañía. La trayectoria desde $0$ hasta $T_1$ sería de 0 reclamaciones.\n",
    "Después de que pase un tiempo aleatorio $t_1$ llega la primera reclamación, y el contador sube a 1. Se mantiene en 1 hasta que pasa otro tiempo aleatorio $t_2$ en el que llega la segunda reclamación. \n",
    "\n",
    "Es decir, la trayectoria asociada a este proceso que describe el número de reclamaciones hasta el instante $t$ es **una función** que va pegando saltos en instantes aleatorios dependiendo de cuando sucedan las reclamaciones.\n",
    "```"
   ]
  },
  {
   "cell_type": "markdown",
   "metadata": {},
   "source": [
    "```{figure} ./images/plot1.jpg\n",
    "---\n",
    "scale: 90%\n",
    "align: left\n",
    "---\n",
    "ola?\n",
    "```"
   ]
  },
  {
   "cell_type": "markdown",
   "metadata": {},
   "source": [
    "### Distribuciones de probabilidad asociadas a un proceso\n",
    "\n",
    "Cuando trabajamos con estas cosas, lo primero que tengo que hacer es definir lo que es un proceso estocástico.\n",
    "\n",
    "Después ya puedo calcular las probabilidades asociadas a ese proceso. Para ello hay que saber:\n",
    "\n",
    "* **Cómo se distribuyen las variables aleatorias**\n",
    "* **Cómo se relacionan entre sí**\n",
    "\n",
    "De esta manera, un proceso estocástico se describe mediante sus distribuciones finito-dimensionales.\n",
    "Es decir, dados instantes de tiempo pertenecientes al intervalo temporal, hay que indicar la distribución de las variables $(Z_{t_1},..., Z_{t_n})$\n",
    "\n",
    "$$(Z_{t_1},..., Z_{t_n}), \\hspace{0.5em} para \\hspace{0.5em} t_1,...,t_n \\in I $$\n",
    "\n",
    "Si describo la distribución de probabilidades finito-dimensionales para cualesquiera intantes de tiempo y cualesquiera variables, hayaré las distribuciones del proceso.\n",
    "\n",
    "Para los casos más sencillos me vale con dar la **distribución de cada $Z_t$**, (se le llama marginal-unidimensional) y **especificar las relaciones de dependencia** de las variables del proceso.\n",
    "\n",
    "```{admonition} Por ejemplo\n",
    ":class: dropdown\n",
    "$Z_t$ resultado de del lanzamiento del dado en el instante $t$ pues ya sé que es una variable que toma los valores $\\{1,2,3,4,5,6\\}$ con $P = 1/6$. Eso sería la marginal unidimensional de cada $Z_t$.\n",
    "\n",
    "Y luego, para hacer cálculos globales que relacionen las variables del proceso, necesitaré especificar las relaciones de dependencia de las variables del proceso.\n",
    "\n",
    "En el ejemplo del dado es sencillo porque simplemente diciendo que todas las variables del proceso son independientes podría hacer cualquier cálculo.\n",
    "\n",
    "La probabilidad de salir par en todos los lanzamientos es igual al producto de la probabilidad de salir par en cada lanzamiento concreto. (Porque las variables son **independientes**)\n",
    "\n",
    "Entonces, sabiendo la distribución de las variables y su relación, ya podría calcular cualquier cosa de ese proceso.\n",
    "\n",
    "Normalmente las cosas no van a ser tan sencillas como en este ejemplo, porque las variables suelen tener relaciones de dependencia.\n",
    "```\n"
   ]
  },
  {
   "cell_type": "markdown",
   "metadata": {},
   "source": [
    "## Distribuciones de un proceso. Poisson\n",
    "El proceso de Poisson es un proceso:\n",
    "* en tiempo continuo $I = [0,\\infty)$\n",
    "* con espacio de estados discreto $E = 1,2,...$\n",
    "\n",
    "Es un proceso especialmente adecuado para describir, por ejemplo, el número de reclamaciones de una compañia de seguros.\n",
    "\n",
    "¿Cómo lo definimos? Las variables del proceso, que serán el número de reclamaciones recibidas hasta el instante $t$, verificará:\n",
    "\n",
    "* El incremento de reclamaciones entre dos instantes de tiempo $(Z_{t_2}-Z_{t_1})$ es una distrinbución de Poisson de parámetro $\\lambda(t_1-t_2)$\n",
    "* Los incrementos del proceso son independientes\n",
    "\n",
    "De alguna manera, el proceso de Poisson ya tiene relaciones de dependencia entre las variables, pero el hecho de que los incrementos sean independientes, me facilitará mucho la tarea de hacer cálculos."
   ]
  },
  {
   "cell_type": "markdown",
   "metadata": {},
   "source": [
    "### Cuestiones de existencia\n",
    "\n",
    "A esta parte tampoco hay que hacerle mucho caso, es un poco fumada.\n",
    "\n",
    "Una vez espacifiquemos las distribuciones del proceso hay que asegurarse de **la existencia** de ese proceso estocástico para poder estudiarlo matematicamente. Para eso debemos encontrar:\n",
    "\n",
    "* Un espacio probabilístico $(\\Omega,\\mathcal{F} ,P)$\n",
    "* Sobre ese espacio probabilistico tendría que ser capaz de definir un conjunto de variables aleatorias $Z_t$ de forma que sus distribuciones finito dimensionales sean las asociadas a $(Z_{t_1},..., Z_{t_n}), \\hspace{0.5em} para \\hspace{0.5em} t_1,...,t_n \\in I $\n",
    "\n",
    "¿Cómo construímos procesos estocásticos? Hay un par de maneras:\n",
    "\n",
    "* Con construcciones ad-hoc: Procesos de Poisson, Cadenas de Markov, Movimiento Browniano\n",
    "* Resultados generales sobre la existencia: Teorema de Kolmogorov. Este teorema dice que que si asignas las probabilidades de modo consistente, viene el señor kolmogorov en persona a tu casa a garantizarte que existe un espacio probabilistico para que tu proceso estocastico se desarrolle tranquilamente. \n",
    "\n",
    "Pero vamos, que no es mi lucha."
   ]
  },
  {
   "cell_type": "markdown",
   "metadata": {},
   "source": [
    "### El proceso de Poisson\n",
    "\n",
    "Un proceso de Poisson es un proceso  **de recuento** en tiempo continuo tal que $(N(t), t \\geq 0)$\n",
    "\n",
    "$N(t)$ puede representar:\n",
    "* número de coches que pasan por un determinado punto de una carretera\n",
    "* número de clientes que llegan a una tienda \n",
    "* número de reclamaciones de una compañia de seguros\n",
    "\n",
    "Es decir, un proceso de recuento es una sucesion de variables aleatorias $N(t)$ cuyo espacio de estados es $\\{0,1,2,3,...\\}$ porque van contando las cosas que pasan hasta un instante de tiempo.\n",
    "\n",
    "Si lo que quiero es definir las cosas que pasan hasta un instante de tiempo, ¿Qué propiedades le voy a requerir a ese algo?\n",
    "* $N(0) \\geq 0$\n",
    "* $N(t)$ toman valores en $\\mathbb{N}$, en los naturales.\n",
    "* El proceso de recuento me cuenta lo que ha sucedido hasta el instante $t$. Luego, si un instante $s$ tal que $s < t$, entonces $N(s) < N(t)$. (Vamos que si estoy sentado en un banco contando los coches que pasan, no pueden haber pasado 50 hasta el primer minuto, y 25 hasta el minuto 2. El conteo siempre es ascendente)\n",
    "* Para $s<t$, $N(t)-N(s)$ cuenta el número de sucesos que han ocurrido en el intervalo $(s, t]$\n",
    "\n",
    "Dado un proceso de recuento $(N(t), t \\geq 0)$ vamos a hablar de dos propiedades que debe tener un proceso de Poisson, aunque estas propiedades también pueden describir un proceso estocástico general.\n"
   ]
  },
  {
   "cell_type": "markdown",
   "metadata": {},
   "source": [
    "````{admonition} Propiedades de un proceso de Poisson\n",
    "1. $(N(t), t \\geq 0)$ tiene **incrementos independientes** si hay independencia entre el número de sucesos ocurridos en intervalos de tiempo disjuntos. Esto es: dados cualesquiera $n$ instantes de tiempo $0 \\leq t_1 < t_2 <...<t_n$, las variables $N(t_2)-N(t_1),...,N(t_n)-N(t_1)$ son independientes.\n",
    "\n",
    "2. Un proceso estocástico, o un proceso de recuento particular $(N(t), t \\leq 0)$ tiene **incrementos estacionarios** si la distribución del número de sucesos ocurridos en un intervalor de tiempo depende de la longitud de ese intervalo, pero **no** del instante de observación.\n",
    "\n",
    "Es decir, si tomo in instante de tiempo $s \\leq 0$, que es el origen de la observación, y un intervalo de tiempo $t > 0$, la distribución de la variable $N(t+s)-N(s)$ (el número de sucesos que han ocurrido entre $s$ y $t$) va a coincidir con la distribución de de los incrementos si tomase $s = 0$, $N(t)-N(0)$\n",
    "\n",
    "Decimos que los incrementos son estacionarios porque independientemente del instante en el que yo empiezo a observar, voy a observar los incrementos con la misma distribución.\n",
    "\n",
    "\n",
    "```{warning}\n",
    ":class: dropdown\n",
    "\n",
    "En algunos libros se utiliza una definición más general de incrementos estacionarios:\n",
    "\n",
    "Se dice que un proceso tiene incrementos estacionarios si la distribución del número de sucesos ocurridos en intervalos de tiempo disjuntos depende, en todo caso, de la longitud de estos, pero no del instante inicial de observación. \n",
    "\n",
    "Osea que si tomo un instante de tiempo arbitrario $ s \\leq 0$, que será el instante en el que empiezo a observar los incrementos del proceso, y tengo tiempos $0 \\leq t_1< t_2<...<tn$, los cuales me darán las longitudes de los intervalos de tiempo que quiero observar, y considero la distribución de la variable $n$-dimensional de incrementos $N(t_2 + s)-N(t_1 + s),...,N(t_n +s)-N(t_{n-1}+s)$ (es decir, estoy observando los incrementos del procesopero comenzando en un instante arbitrario $s$), esta distribución coincidirá con la distribución de los incrementos **si tomase $s = 0$**\n",
    "\n",
    "$$ N(t_2 + s)-N(t_1 + s),...,N(t_n +s)-N(t_{n-1}+s) = N(t_2)-N(t_1),...,N(t_n)-N(t_{n-1}) $$\n",
    "\n",
    "Es decir, si $s = 0$, lo que yo observo desde aquí será lo mismo, en cuanto a cálculo de probabilidades que si yo me pusiese a observar el proceso a partir de un instante arbitrario $s$.\n",
    "\n",
    "```\n",
    "Bajo la condición de incrementos independientes, ambas definiciones de incrementos estacionarios (la de fuera del warning y la de dentro) son equivalentes.\n",
    "````"
   ]
  },
  {
   "cell_type": "markdown",
   "metadata": {},
   "source": [
    "## Proceso de Poisson\n",
    "```{admonition} Repaso distribución de Poisson\n",
    ":class: dropdown\n",
    "Si tomamos $X$ una v.a., decimos que $X$ es un variable de Poisson de parámetro $\\lambda$ si verifica:\n",
    "\n",
    "$$P(X=k) = \\frac{e^{-k}\\lambda^{k}}{k!}, k= 0,1,...$$\n",
    "\n",
    "Es una v.a. adecuada para contar el número de sucesos (llamadas telefónicas por ejemplo) en un intervalo de tiempo.\n",
    "\n",
    "Algunas propiedades:\n",
    "\n",
    "* Valor esperado: $E[X] = \\sum^{\\infty}_{k = 0}kP(X=k)=\\lambda$\n",
    "* Varianza: $Var[X] = \\lambda$\n",
    "\n",
    "Si quiesiéramos calcular momentos que no fuesen ni la esperanza ni la varianza, podríamos recurrir a la función generatriz de momentos para la variable de Poisson.\n",
    "\n",
    "$$\\psi(t) = Ee^{tX} = \\sum^{\\infty}_{k = 0}e^{tk}P(X=k) = e^{\\lambda(e^t - 1)}, t \\in \\mathbb{R}$$\n",
    "\n",
    "Los momentos de una v.a. pueden calcularse a partir de la función generatriz de momentos (si esta existe en un entorno de origen) ya que se tiene que el valor esperado de $X^k$ se puede obtener derivando la función generatriz de momentos $k$ veces y aplicando la derivada en $t=0$.\n",
    "\n",
    "$$EX^k = \\left. \\frac{d^k}{dt^k}\\psi(t) \\right|_{t=0}, k= 1,2,...$$\n",
    "\n",
    "Si tenemos una función generatriz de momentos sencilla, podemos calcular los momentos de una v.a sin necesidad de hacer excesivos cálculos.\n",
    "\n",
    "```"
   ]
  },
  {
   "cell_type": "markdown",
   "metadata": {},
   "source": [
    "Mucho ojo a todo esto porque se viene roca.\n",
    "\n",
    "Vamos a partir de las definiciones del libro de Ross, Capitulo 2. Aquí se presentan dos definiciones. Vamos con la primera:\n",
    "\n",
    "El proceso de Poisson es un proceso de recuento $(N(t), t \\leq 0)$. Diremos que es un proceso de Poisson de tasa $\\lambda$ si:\n",
    "\n",
    "1. Comienza en el origen $(N(0) = 0)$\n",
    "2. Tiene incrementos independientes\n",
    "3. Si tomo instantes de tiempo arbitrarios $s$ tal que $t \\leq 0$, entonces la distribución de los incrementos $N(t+s)-N(s)$ va a tener distribución de Poisson de parámetro $\\lambda t$. (multiplico el parámetro $\\lambda$ por la longitud del intervalo de tiempo de los incrementos). Esto es\n",
    "\n",
    "$$P(N(t+s)-N(s) = n) = \\frac{e^{-\\lambda t}(\\lambda t)^n}{n!}, n = 0,1,...$$\n",
    "\n",
    "La probabilidad de que un incremento de magnitud $t$ valga $n$ viene dada por la distribución de Poisson de parámetro $\\lambda$\n",
    "\n",
    "```{admonition} Observaciónes\n",
    ":class: dropdown\n",
    "La propiedad 3 verifica que el proceso de Poisson tiene la propiedad de incrementos estacionarios ya que los incrementos del proceso solo dependen de la magnitud del intervalo y no del instante inicial de observación.\n",
    "\n",
    "También por la propiedad 3 conozco el valor esperado del número de sucesos hasta el instante $t$:\n",
    "\n",
    "$$EN(t) = \\lambda t $$\n",
    "\n",
    "De ahí que se llame *tasa* a $\\lambda$ (número medio de sucesos por unidad de tiempo).\n",
    "\n",
    "Si $\\lambda = 1$, llamamos a $(N(t), t \\leq 0)$ proceso de Poisson estándar.\n",
    "```\n",
    "Para determinar si un proceso de recuento arbitrario es en realidad un proceso de Poisson, debemos demostrar que se satisfacenm als condiciones 1, 2 y 3. La condición 1, que simplemente establece que el recuento de eventos comienza en el momento $t=0$, y la condición 2 generalmente se pueden verificar a partir de nuestro conocimiento del proceso. Pero no está del todo claro cómo determinamos el cumplimiento de la condición 3 y por esa razón es útil una definición equivalente de un proceso de Poisson.\n",
    "\n",
    "Ahí va la senda definición que presenta el Ross ~~este de los huevos~~\n"
   ]
  },
  {
   "cell_type": "markdown",
   "metadata": {},
   "source": [
    "### Definición a través de sus incrementos infinitesimales\n",
    "El proceso de Poisson también se puede definir de la siguiente manera. Tenemos un proceso de recuento $(N(t), t \\leq 0)$. Podría decir que este proceso es un proceso de Poisson de tasa $\\lambda$ si verifica:\n",
    "\n",
    "\n",
    "```{margin}\n",
    "Dada una función $f$, diré que $f$ es una $o(h)$ si  $\\lim_{h\\to 0}\\frac{f(h)}{h}=0$\n",
    "A $o(h)$ le llama una o pequeña de h. Muy bien. Todo ok.\n",
    "$N(h)$: incremento infinitesimal\n",
    "```\n",
    "1. $N(0) = 0$\n",
    "2. El proceso tiene incrementos estacionarios e independientes\n",
    "3. $P(N(h) = 1) = \\lambda h + o(h)$\n",
    "4. $P(N(h) \\leq 2) = o(h)$\n",
    "\n",
    "La propiedad 3 nos cuantifica la probabilidad de la ocurrencia de *un* suceso en un incremento infinitesimal, mientras que la propiedad 4 nos cuantifica la probabilidad de que ocurran *dos* sucesos en un incremento infinitesimal. Entonces, en un incremento infinitesimal, o puede pasar una cosa o pueden pasar cero cosas. La probabilidad de que sucedan más cosas es irrelevante.\n",
    "\n",
    "Osea, si soy capaz de entender esto, la prob 4 quiere decir que en un incremento infinitesimal $N(h)$, la prob de que ocurran 2 o más sucesos es irrelevante? ¿$o(h)$ es la notación para describir irrelevante? ¿NO VALE EL 0 O QUÉ? Enfin. Me están poniendo negro ya. ~~Puta peña.~~\n",
    "\n",
    "Dicho de otro modo: las propiedades 3 y 4 nos indican que los incrementos infinitesimales del proceso son de magnitud 0 o 1."
   ]
  },
  {
   "cell_type": "markdown",
   "metadata": {},
   "source": [
    "Vale pues ahora Ross nos dice que ambas definiciones son EQUIVALENTES. Y que una implica la otra y viceversa.\n",
    "\n",
    "Para eso define:\n",
    "\n",
    "$$P_n(t) = P(N(t) = n)$$\n",
    "\n",
    "Sin más que esto no es nada en principio, solo otra manera de llamar a la probabilidad de que en el instante $t$, $N(t) = n$\n",
    "\n",
    "Entonces, empezamos con el caso de n = 0, y te plasma lo siguiente en el libro sin explicación alguna:\n",
    "\n",
    "$$P_0(t+h) = P(N(t+h) = 0)$$\n",
    "\n",
    "¿Qué tiene que pasar para que o cosas en este intervalo?\n",
    "\n",
    "![Drag Racing](incrementos.png)\n",
    "\n",
    "Pues que tienen que pasar 0 cosas desde 0 a $t$ ($N(t)=0$), y otras 0 cosas desde $t$ ahsta $t+h$ ($N(t+h)-N(t) = 0$). Vale pues entonces :\n",
    "\n",
    "$$P_0(t+h) = P(N(t+h) = 0) = P(N(t)=0,N(t+h)-N(t) = 0)$$\n",
    "\n",
    "Ahora, por la propiedad de incrementos independientes digo:\n",
    "\n",
    "$$P(N(t)=0,N(t+h)-N(t) = 0) = P(N(t)=0)P(N(t+h)-N(t) = 0)$$\n"
   ]
  },
  {
   "cell_type": "code",
   "execution_count": null,
   "metadata": {},
   "outputs": [],
   "source": []
  },
  {
   "cell_type": "code",
   "execution_count": null,
   "metadata": {},
   "outputs": [],
   "source": []
  },
  {
   "cell_type": "code",
   "execution_count": null,
   "metadata": {},
   "outputs": [],
   "source": []
  },
  {
   "cell_type": "code",
   "execution_count": null,
   "metadata": {},
   "outputs": [],
   "source": []
  },
  {
   "cell_type": "markdown",
   "metadata": {},
   "source": []
  },
  {
   "cell_type": "markdown",
   "metadata": {},
   "source": []
  },
  {
   "cell_type": "markdown",
   "metadata": {},
   "source": []
  }
 ],
 "metadata": {
  "kernelspec": {
   "display_name": "Python 3 (ipykernel)",
   "language": "python",
   "name": "python3"
  },
  "language_info": {
   "codemirror_mode": {
    "name": "ipython",
    "version": 3
   },
   "file_extension": ".py",
   "mimetype": "text/x-python",
   "name": "python",
   "nbconvert_exporter": "python",
   "pygments_lexer": "ipython3",
   "version": "3.10.8"
  },
  "vscode": {
   "interpreter": {
    "hash": "b927943075216497242b89ad1a9bd3d0b69fd13ad0ada2aaf539a2f19e604df0"
   }
  }
 },
 "nbformat": 4,
 "nbformat_minor": 4
}