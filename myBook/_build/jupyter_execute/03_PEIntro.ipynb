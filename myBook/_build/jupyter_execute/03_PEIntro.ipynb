{
 "cells": [
  {
   "cell_type": "markdown",
   "metadata": {},
   "source": [
    "# Procesos estocásticos\n",
    "\n",
    "* Introducción 2h\n",
    "* Procesos de Poisson 6h\n",
    "* Procesos de renovación 6h\n",
    "* Cadenas de Markov en tiempo discreto 6h\n",
    "* Cadenas de Markov en tiempo continuo 6h\n"
   ]
  },
  {
   "cell_type": "markdown",
   "metadata": {},
   "source": [
    "## Introducción a los procesos estocásticos\n",
    "\n",
    "Los procesos estocásticos tratan de modelizar situaciones que cambian en el tiempo y que están sometidas a las regas del azar. Este tipo de situaciones en las que interviene el azar tratamos de describirlas desde un punto de vista matemático.\n",
    "\n",
    "Desde un punto de vista matemático, un proceso estocástico es un conjunto de variables aleatorias que pertenecen a un índice temporal.\n",
    "$$ \\{Z_t, t \\in I\\} $$\n",
    "\n",
    "Es decir, los instantes de tiempo en donde se observa el proceso están contenidos en el intervalo temporal $I$.\n",
    "\n",
    "$Z_t$ puede representar:\n",
    "\n",
    "* el número de clientes en una cola en el instante $t$\n",
    "* precio de un activo financiero en el instante $t$\n",
    "  \n",
    "### Procesos en tiempo discreto y continuo\n",
    "$(\\Omega, \\mathcal{F}, P)$ : Espacio Probabilístico\n",
    "\n",
    "* $\\Omega$: conjunto de posibles resultados de un experimento. En el caso de un dado: $\\Omega = \\{1,2,3,4,5,6\\}$\n",
    "* $\\mathcal{F}$: familia de subconjuntos/sucesos asociados al experimento. Ejemplo: $A \\in \\mathcal{F} $ siendo $A = \\{número \\hspace{1em} par\\}$\n",
    "* $P$: Función de probabilidad definida sobre la familia de sucesos. $P.\\mathcal{F} \\rightarrow [0,1]$, $ A \\rightsquigarrow P(A)$ ($A$ tiene una probabilidad asociada $P(A)$)\n",
    "\n",
    "Lo que tenemos sobre el espacio probabilístico son variables aleatorias $Z_t$, habiendo una variable aleatoria $Z_t$ para cada $t \\in I$ definida sobre $\\mathbb{R}$ \n",
    "\n",
    "$$Z_t:\\Omega \\rightarrow \\mathbb{R} $$ \n",
    "\n",
    "donde $Z_t$ es la variable que estamos observando en el instante $t$ (precio, número de personas en cola...) y que nos indica el *estado* del sistema en dicho instante.\n",
    "\n",
    "El conjunto de índices $I$ suele ser un subconjunto de $[0,\\infty]$. Los casos más importantes: APUNTES\n",
    "\n",
    "Ejemplo sencillo de un proceso estocástico:\n",
    "Lanzo un dado 30 veces y anoto los resultados\n",
    "$\\Omega = \\{(w_1, ..., w_30\\}$, donde $w_t$ es el resultado del lanzamiento en el momento $t$.\n",
    "$\\mathcal{F}$: familia de sucesos, partes de $\\Omega$\n",
    "Proceso estocástico:\n",
    "$$\\begin{equation}\n",
    "\\begin{split}\n",
    "Z_t : \\Omega  \\Rightarrow \\mathbb{R} \\\\\n",
    "w \\Rightarrow w_t\n",
    "\\end{split}\n",
    "\\end{equation}$$\n",
    "\n"
   ]
  },
  {
   "cell_type": "markdown",
   "metadata": {},
   "source": []
  }
 ],
 "metadata": {
  "kernelspec": {
   "display_name": "Python 3.10.7 ('.venv': pipenv)",
   "language": "python",
   "name": "python3"
  },
  "language_info": {
   "codemirror_mode": {
    "name": "ipython",
    "version": 3
   },
   "file_extension": ".py",
   "mimetype": "text/x-python",
   "name": "python",
   "nbconvert_exporter": "python",
   "pygments_lexer": "ipython3",
   "version": "3.10.7"
  },
  "vscode": {
   "interpreter": {
    "hash": "26fccf25cf6bb8b48c33f8fb25e7bf15becfb434061a1f86f604a0db0d8d46d2"
   }
  }
 },
 "nbformat": 4,
 "nbformat_minor": 2
}