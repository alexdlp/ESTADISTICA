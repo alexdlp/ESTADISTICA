{
 "cells": [
  {
   "cell_type": "markdown",
   "id": "f9219e25-b90b-42ba-98e2-adf536fb3233",
   "metadata": {},
   "source": [
    "# Poisson\n",
    "\n",
    "La Poisson es un caso muy especial de las de la familia de las Bernoulli. Se trata del límite de una Binomial. Esta distribución aparece en el conteo de determinados eventos que se producen en un intervalo de tiempo o en el espacio.Lo denotaremos como $Po(\\lambda)$\n",
    "\n",
    "Supongamos que nuestra variable de interés es $X = \\text{número de eventos en el intervalo de tiempo (0,t]}$, como por ejemplo el número de llamada a un call center en una hora.\n",
    "\n",
    "Diremos que una v.a. $X$ con $X( \\Omega) = N$ tiene distribución de Poisson con parámetro $ \\lambda > 0$ si se cumplan una serie de condiciones:\n",
    "\n",
    "1. El número de eventos en el intervalo $(0,t]$ es $\\lambda >0$\n",
    "2. Es posible dividir el interalo de tiempo en un gran número de subintervalos (denotemos por $n$ al número de intervalos) de forma que:\n",
    "\n",
    "    * La probabilidad de que se produzcan dos o más eventos en un subintervalo es despreciable\n",
    "    * El número de ocurrencias de eventos en un intervalos es independiente del número de ocurrencias en otro intervalo.\n",
    "    * La probabilidad de que un evento ocurra en un subintervalo es $p_n \\cdot n = \\lambda$, o lo que es lo mismo $p_n = \\frac{\\lambda}{n}$.\n",
    "\n",
    "Bajo estas condiciones podemos considerar que el número de eventos en el intervalo $(0,t]$ será el número de éxitos en $n$ repeticiones independientes de un proceso de Bernoulli de parámetro $p_n$.\n",
    "\n",
    "Entonces si $n \\rightarrow \\infty$, $p_n \\cdot n = \\lambda$ se mantiene constante, $p_x$ se hará cada vez más pequeño. Lo que resulta en que que la función de probabilidad de $X$ se puede poner como:\n",
    "\n",
    "$$P(X_n = k) = \\binom{n}{k} \\cdot p_n^k \\cdot (1-p_n)^{n-k}$$\n",
    "$$= \\binom{n}{k} \\cdot \\binom{\\lambda}{n}^k \\cdot (1- \\frac{\\lambda}{n})^{n-k}$$\n",
    "$$= \\frac{\\lambda ^k}{k!} \\cdot \\frac{n!}{(n-k)! \\cdot n^k} \\cdot (1- \\frac{\\lambda}{n})^n \\cdot (1- \\frac{\\lambda}{n})^{-k}$$\n",
    "\n",
    "Estamos interesados en calcular \n",
    "\n",
    "$$lim_{n \\rightarrow \\infty} P(X_n = k) = lim_{n \\rightarrow \\infty} \\frac{\\lambda ^k}{k!} \\cdot \\frac{n!}{(n-k)! \\cdot n^k} \\cdot (1- \\frac{\\lambda}{n})^n \\cdot (1- \\frac{\\lambda}{n})^{-k}$$\n",
    "\n",
    "Por partes:\n",
    "\n",
    "$$lim_{n \\rightarrow \\infty} \\frac{n!}{(n-k)! \\cdot n^k} = lim_{n \\rightarrow \\infty} \\frac{n \\cdot (n-1)...(n-k-1)}{n^k} =  lim_{n \\rightarrow \\infty} \\frac{n^k+...}{n^k}=1$$\n",
    "$$lim_{n \\rightarrow \\infty}(1- \\frac{\\lambda}{n})^n = e^{- \\lambda}$$\n",
    "y teniendo en cuenta que $k$ es constante:\n",
    "$$lim_{n \\rightarrow \\infty} (1- \\frac{\\lambda}{n})^{-k} = lim_{n \\rightarrow \\infty}1^{-k}=1$$\n",
    "\n",
    "\n",
    "Para acabar, agrupamos y simplificámos la primera expresión:\n",
    "\n",
    "$$lim_{n \\rightarrow \\infty}P(X = k) =lim_{n \\rightarrow \\infty} \\binom{n}{k} \\cdot p_n^k \\cdot (1-p_n)^{n-k} = \\frac{\\lambda ^k}{k!} \\cdot e^{- \\lambda} $$\n",
    "\n",
    "Lo que confirma que el límite de una serie de variables $B(n, p_n = \\frac{\\lambda}{n})$ sigue una ley $Po(\\lambda)$\n",
    "\n",
    "\n",
    "\n",
    "\n",
    "\n",
    "\n",
    "\n",
    "su PDF es:\n",
    "$$P_X(X)=P(X=x) = \\begin{cases}\n",
    "       \\frac{\\lambda ^x}{x!} e^{- \\lambda}  &\\quad\\text{si } x = 0,1,...\\\\\n",
    "       0 &\\quad\\text{en otro caso}\\\\\n",
    "\\end{cases} $$\n"
   ]
  },
  {
   "cell_type": "markdown",
   "id": "e937e2a7-6e6e-4992-9f19-24972f8614ef",
   "metadata": {},
   "source": [
    "# Procesos de Poison\n",
    "\n",
    "Lo interesante de las variables de Poisson es que si el modelo lo permite, podemos **modificar el intervalo de tiempo $(0,t]$ en el que contamos los eventos**.\n",
    "\n",
    "Por lo general, si la variable es Poisson en el intervalo $(0,t]$, también será Poisson para cualquier subintervalo $(0,t']$ para cualquier valor $t'$ comprendido en $0 < t' <t$. Así pues, tiene sentido definir toda una familia de variables $X_t$ que tengan distribución $Po(\\lambda)$.\n",
    "\n",
    "Bajo estas características podemos definir un experimento de Poisson:\n",
    "\n",
    "Si tenemos un experimento de Poisson de parámetro $\\lambda$ igual al promedio de eventos en una unidad de tiempo (la que queramos; un segundo, un año, un día...) y $t$ es la cantidad de tiempo, la v.a. $X_t = \\{ \\text{número de eventos en el intervalo (0,t] }\\}$ es una  $Po(\\lambda \\cdot t)$.\n",
    "\n",
    "Por ejemplo, el número de whasaps que nos lelga a la hora al móvil tiene por promedio 7 whasaps/hora. La varaible de Poisson que nos cuenta el número de whasaps que llegan en dos horas sería una $Po(14)$, la varaible de Poisson que nos cuenta el número de whasaps que llegan en tres horas sería una $Po(21)$...\n",
    "\n",
    "Se puede ampliar o contraer el tiempo, que la distribución sigue siendo una Poisson, evidentemente con el parámetro $\\lambda$ escalado.\n",
    "\n",
    "Amigo mio que aqui distingue entre variable de Poisson y proceso de Poisson:\n",
    "\n",
    "## Resumen distribución Poisson $X \\sim Po( \\lambda)$\n",
    "\n",
    "Dominio:\n",
    "$$D_X = \\{0,1,... \\}$$\n",
    "Esperanza:\n",
    "$$E(X) = \\lambda$$\n",
    "\n",
    "Varianza:\n",
    "$$Var(X) = \\lambda$$\n",
    "\n",
    "su PDF es:\n",
    "$$P_X(x)=P(X=x) = \\begin{cases}\n",
    "       \\frac{\\lambda ^x}{x!} e^{- \\lambda}  &\\quad\\text{si } x = 0,1,...\\\\\n",
    "       0 &\\quad\\text{en otro caso}\\\\\n",
    "\\end{cases} $$\n",
    "\n",
    "Y su CDF:\n",
    "\n",
    "$$F_X(x) = P(X\\leq x) = \n",
    "     \\begin{cases}\n",
    "    0 &\\quad\\text{si }x < 0\\\\ \n",
    "     \\sum^{k}_{i=0} P(X=i)= \\sum^{k}_{i=0} \\frac{\\lambda^i}{i!} \\cdot e^{- \\lambda} &\\quad\\text{si}\n",
    "           \\begin{cases}\n",
    "           k \\leq x < k+1 \\\\\n",
    "           k=0,1,...\\\\\n",
    "           \\end{cases}\\\\\n",
    "\\end{cases}$$\n",
    "\n"
   ]
  },
  {
   "cell_type": "markdown",
   "id": "e081bd09-2951-4620-8a84-c9f8c332748b",
   "metadata": {},
   "source": [
    "## Resumen **proceso** Poisson $X \\sim Po( \\lambda \\cdot t)$\n",
    "\n",
    "Dominio:\n",
    "$$D_X = \\{0,1,... \\}$$\n",
    "Esperanza:\n",
    "$$E(X) = \\lambda \\cdot t$$\n",
    "\n",
    "Varianza:\n",
    "$$Var(X) = \\lambda \\cdot t$$\n",
    "\n",
    "su PDF es:\n",
    "$$P_X(x)=P(X=x) = \\begin{cases}\n",
    "       e^{- \\lambda \\cdot t}  \\frac{(\\lambda \\cdot t )^x}{x!}  &\\quad\\text{si } x = 0,1,...\\\\\n",
    "       0 &\\quad\\text{en otro caso}\\\\\n",
    "\\end{cases} $$\n",
    "\n",
    "Y su CDF:\n",
    "\n",
    "$$F_X(x) = P(X\\leq x) = \n",
    "     \\begin{cases}\n",
    "    0 &\\quad\\text{si }x < 0\\\\ \n",
    "     \\sum^{k}_{i=0} P(X=i)= \\sum^{k}_{i=0} \\frac{(\\lambda \\cdot t )^i}{i!} \\cdot e^{- \\lambda \\cdot t} &\\quad\\text{si}\n",
    "           \\begin{cases}\n",
    "           k \\leq x < k+1 \\\\\n",
    "           k=0,1,...\\\\\n",
    "           \\end{cases}\\\\\n",
    "\\end{cases}$$\n"
   ]
  },
  {
   "cell_type": "markdown",
   "id": "9ab15c04-f67a-4a69-9587-c99d9c9492a6",
   "metadata": {},
   "source": [
    "Ejemplo: Trampa insectos.\n",
    "\n",
    "Una lampara antiinsectos atrae a los insectos voladores con una luz ultravioleta y los mata por electrocución.\n",
    "\n",
    "Consideremos la v.a. $X$ que cuenta el número de insectos caídos en la trampa en una hora. Supongamos que el número promedio de insectos que captura la trampa en una hora es $E(X) = 20$ y que podemos admitir que $X$ sigue una ley de probabilidad $Po(\\lambda =20)$.\n",
    "\n",
    "Se pide:\n",
    "1. Comentar si se cumplen intuitivamente las condiciones para tener una distribución de Poisson.\n",
    "2. Escribir de forma explicita la función de probabilidad y de disrtribución de $X$.\n",
    "3. Calcular la probabilidad de que en una hora caigan en la trampa exactamente 21 insectos.\n",
    "4. calcular la probabilidad de que en una hora caigan en la trampa al menos 6 insectos.\n",
    "5. ¿Cuál es el valor esperado, la varianza y la desviación típica de $X$?\n",
    "\n",
    "Solucion 1. \n",
    "\n",
    "¿Se cumplen las hipotesis para tener una distribución de poisson? \n",
    "- El número promedio de eventos en el intervalo $(0,t]$, en una hora es $\\lambda =20 > 0$\n",
    "- Es posible dividir el intervalo de tiempo de una hora en un gran número de subintervalos (denotemos por $n$ al número de intervalos de forma que:\n",
    "    * La probabilidad de se produzcan dos o más electrocuciones en un subintervalo es despreciable. No es posible que dos mosquitos se electrocuten al mismo tiempo.\n",
    "    * El número de ocurrencias -electrocuciones de mosquito- en un intervalo es independiente del número de electrocuciones en otro intervalo.\n",
    "    * La probabilidad de que un evento ocurra en un subintervalo es $p_n \\cdot n = \\lambda$. Podemos dividir los 20 insectos promedio entre los $n$ intervalos (trozos de hora) de forma que $p_n = \\frac{\\lambda}{n}$\n",
    "    * Por ejemplo si $n = 60$ tenemos que  $p_n = \\frac{20}{60} = \\frac{1}{3}$. La probabilidad de que en un minuto la trampa chisporrotee es $\\frac{1}{3}$"
   ]
  },
  {
   "cell_type": "markdown",
   "id": "17eae2ba-3b97-43f1-af69-ca964bef4b87",
   "metadata": {},
   "source": [
    "Solución 2.\n",
    "Para una $Po(\\lambda = 20)$\n",
    "$$P_X(x)=P(X=x) = \\begin{cases}\n",
    "       \\frac{20^x}{x!} e^{- 20}  &\\quad\\text{si } x = 0,1,...\\\\\n",
    "       0 &\\quad\\text{en otro caso}\\\\\n",
    "\\end{cases} $$\n",
    "\n",
    "La función de distribución de no tiene fórmula analítica. Lo único que se puede hacer es poner un sumatorio delante:\n",
    "$$F_X(x) = P(X\\leq x) = \n",
    "     \\begin{cases}\n",
    "    0 &\\quad\\text{si }x < 0\\\\ \n",
    "     \\sum^{k}_{i=0} P(X=i)= \\sum^{k}_{i=0} \\frac{20 ^i}{i!} \\cdot e^{-20} &\\quad\\text{si}\n",
    "           \\begin{cases}\n",
    "           k \\leq x < k+1 \\\\\n",
    "           k=0,1,...\\\\\n",
    "           \\end{cases}\\\\\n",
    "\\end{cases}$$\n"
   ]
  },
  {
   "cell_type": "markdown",
   "id": "d09d3986-3852-452d-a4cf-7bcc1e31a522",
   "metadata": {},
   "source": [
    "Solución 3. \n",
    "Simplemente sustituir en la ecuación:\n",
    "\n",
    "$$P(X=x) =  \\frac{20^{21}}{21!} e^{- 20} $$"
   ]
  },
  {
   "cell_type": "code",
   "execution_count": 42,
   "id": "b0c1141a-adf5-4825-a50f-cadfe353d223",
   "metadata": {},
   "outputs": [
    {
     "name": "stdout",
     "output_type": "stream",
     "text": [
      "1-P(X=215) =\tcon formula: 0.08461 \tcon scipy 0.08461\n"
     ]
    }
   ],
   "source": [
    "#Solución 3\n",
    "from math import factorial\n",
    "import numpy as np\n",
    "\n",
    "from scipy.stats import poisson\n",
    "\n",
    "formula = 20**21/factorial(21)*np.exp(-20)\n",
    "\n",
    "scipy = poisson.pmf(21, 20)\n",
    "\n",
    "print(f'1-P(X=215) =\\tcon formula: {formula:.5f} \\tcon scipy {scipy:.5f}')"
   ]
  },
  {
   "cell_type": "markdown",
   "id": "ffc48433-4a7e-4d3f-8aaf-794b4ab85af4",
   "metadata": {},
   "source": [
    "Solución 4.\n",
    "\n",
    "Al menos 6 insectos es que caigan en la trampa 6 o más insectos: $P(X \\geq 6)$\n",
    "\n",
    "Que es lo mismo que 1 menos la probabilidad de que caigan menos de 6: $1-P(X <6)$\n",
    "\n",
    "Que a su vez es lo mismo que 1 menos la probabilidad de que caigan 5 insectos o menos: $1-P(X \\leq 5)$\n",
    "\n",
    "Lo que es igual a 1 menos la función de acumulación hasta 5: $$1-F_X(5)= \\sum^{5}_{x=0} \\frac{20^x}{x!} \\cdot e^{-20}$$\n"
   ]
  },
  {
   "cell_type": "code",
   "execution_count": 43,
   "id": "997d4ca8-520c-43e3-9351-f3ca9c3a9301",
   "metadata": {},
   "outputs": [
    {
     "name": "stdout",
     "output_type": "stream",
     "text": [
      "1-P(X<=5) =\tcon formula: 0.99993 \tcon scipy 0.99993\n"
     ]
    }
   ],
   "source": [
    "#soluciópn 4\n",
    "p_acumulada_5 = 0\n",
    "Lambda = 20\n",
    "for x in range(5+1):\n",
    "    p_x = Lambda**x/factorial(x)*np.exp(-Lambda)\n",
    "    p_acumulada_5 = p_acumulada_5 + p_x\n",
    "\n",
    "formula = 1-p_acumulada_5\n",
    "\n",
    "scipy = 1-poisson.cdf(5, 20)\n",
    "\n",
    "\n",
    "print(f'1-P(X<=5) =\\tcon formula: {formula:.5f} \\tcon scipy {scipy:.5f}')"
   ]
  },
  {
   "cell_type": "markdown",
   "id": "d555e305-338a-46b1-a069-6e444237c4bf",
   "metadata": {},
   "source": [
    "Solución 5.\n",
    "\n",
    "Valor esperado: $E(X)= \\lambda = 20$\n",
    "\n",
    "Varianza: $Var(X) = \\lambda = 20$\n",
    "\n",
    "Desciación típica: $Var(X) = \\sqrt{ \\lambda }= 4.47$"
   ]
  },
  {
   "cell_type": "markdown",
   "id": "cacceb58-ad4c-4963-97e4-fa942aa1d869",
   "metadata": {},
   "source": [
    "### Cálculos con Python\n",
    "\n",
    "Para los ejemplos tomamos una distribución de Poisson de $\\lambda = 3$. Es decir, sea $X$ una v.a. $Po( \\lambda = 3)$.\n",
    "\n",
    "* Probabilidad de que la variable aleatoria tome el valor 0, * $P(X=0)$"
   ]
  },
  {
   "cell_type": "code",
   "execution_count": 49,
   "id": "ea871450-f261-476c-a7a4-4113bedf6b6e",
   "metadata": {},
   "outputs": [
    {
     "data": {
      "text/plain": [
       "0.049787068367863944"
      ]
     },
     "execution_count": 49,
     "metadata": {},
     "output_type": "execute_result"
    }
   ],
   "source": [
    "poisson.pmf(0,3)"
   ]
  },
  {
   "cell_type": "markdown",
   "id": "fc9115e4-7393-45cd-a5e9-e8e9f790fa71",
   "metadata": {},
   "source": [
    "* Probabilidad de que la variable aleatoria tome el valor 1, $P(X=1)$"
   ]
  },
  {
   "cell_type": "code",
   "execution_count": 50,
   "id": "b1d2c2aa-14c6-420d-826b-1b42d1091fca",
   "metadata": {},
   "outputs": [
    {
     "data": {
      "text/plain": [
       "0.14936120510359185"
      ]
     },
     "execution_count": 50,
     "metadata": {},
     "output_type": "execute_result"
    }
   ],
   "source": [
    "poisson.pmf(1,3)"
   ]
  },
  {
   "cell_type": "markdown",
   "id": "70c15cfa-12cc-4345-9707-6d519ccae4c2",
   "metadata": {},
   "source": [
    "* Probabilidad de que la variable aleatoria tome los valores menores o iguales que cero, $F_X(0) = P(X \\leq 0)$"
   ]
  },
  {
   "cell_type": "code",
   "execution_count": 51,
   "id": "2b4713bd-2ce2-4fba-b9ce-2a66c08e4184",
   "metadata": {},
   "outputs": [
    {
     "data": {
      "text/plain": [
       "0.04978706836786395"
      ]
     },
     "execution_count": 51,
     "metadata": {},
     "output_type": "execute_result"
    }
   ],
   "source": [
    "poisson.cdf(0,3)"
   ]
  },
  {
   "cell_type": "markdown",
   "id": "2410b0a3-659f-4edd-b4fc-01605e24972a",
   "metadata": {},
   "source": [
    "* Probabilidad de que la variable aleatoria tome los valores menores o iguales que uno, $F_X(1) = P(X \\leq 1)$"
   ]
  },
  {
   "cell_type": "code",
   "execution_count": 71,
   "id": "c4fd862f-3a60-4654-b13d-3b203d85f068",
   "metadata": {},
   "outputs": [
    {
     "data": {
      "text/plain": [
       "0.1991482734714558"
      ]
     },
     "execution_count": 71,
     "metadata": {},
     "output_type": "execute_result"
    }
   ],
   "source": [
    "poisson.cdf(1,3)"
   ]
  },
  {
   "cell_type": "markdown",
   "id": "eadfdfca-3a41-4266-9c39-aa5fa88a592d",
   "metadata": {},
   "source": [
    "Podemos comprobar que que $F_X(10) = \\sum^{10}_{x=0} P_X(x)$"
   ]
  },
  {
   "cell_type": "code",
   "execution_count": 61,
   "id": "05e3bcd4-4766-478a-b33d-a8fb9c12f851",
   "metadata": {},
   "outputs": [
    {
     "name": "stdout",
     "output_type": "stream",
     "text": [
      "P(X<=10) =\tcon formula: 0.99971 \tcon scipy 0.99971\n"
     ]
    }
   ],
   "source": [
    "sumatorio = sum(poisson.pmf(np.arange(0,10+1,1),3))\n",
    "funcion_distribucion = poisson.cdf(10,3)\n",
    "\n",
    "print(f'P(X<=10) =\\tcon formula: {sumatorio:.5f} \\tcon scipy {funcion_distribucion:.5f}')\n"
   ]
  },
  {
   "cell_type": "markdown",
   "id": "c9c001cf-ab54-4ea5-9d24-7ef5f0a38fbd",
   "metadata": {},
   "source": [
    "Generación de una muestra aleatoria simple (m.a.s.) simple random sampling\n",
    "Secuencias de observaciones aleatorias de población $Po(3)$.\n",
    "Esto sería igual a quedarnos 100 horas mirando la lampara de mosquitos. La primera hora morirían "
   ]
  },
  {
   "cell_type": "code",
   "execution_count": 72,
   "id": "bc2cb3a4-7e91-4584-8205-240054cefd23",
   "metadata": {},
   "outputs": [
    {
     "name": "stdout",
     "output_type": "stream",
     "text": [
      "[6 1 0 1 5 4 1 3 4 4 4 6 0 1 2 2 4 1 6 4 5 1 3 4 4 2 1 5 2 2 4 3 0 1 3 4 7\n",
      " 2 3 1]\n"
     ]
    }
   ],
   "source": [
    "array = poisson.rvs(mu = 3, size = 40, random_state=None)\n",
    "print(array)"
   ]
  },
  {
   "cell_type": "code",
   "execution_count": 73,
   "id": "c1f2791b-6b93-42f7-9017-0fa567f54629",
   "metadata": {},
   "outputs": [
    {
     "name": "stdout",
     "output_type": "stream",
     "text": [
      "Esto sería igual a qudarnos 40 horas mirando la lampara de mosquitos. La primera hora morirían 6, la segunda hora 1, la tercera 0, y así hasta 100 horas.\n"
     ]
    }
   ],
   "source": [
    "print(f'Esto sería igual a qudarnos 40 horas mirando la lampara de mosquitos. La primera hora morirían {array[0]}, la segunda hora {array[1]}, la tercera {array[2]}, y así hasta 100 horas.')"
   ]
  },
  {
   "cell_type": "code",
   "execution_count": 83,
   "id": "41c273f1-7324-4f17-bf2d-3574375a664c",
   "metadata": {},
   "outputs": [
    {
     "data": {
      "image/png": "[encoded data removed]",
      "text/plain": [
       "<Figure size 1200x400 with 2 Axes>"
      ]
     },
     "metadata": {},
     "output_type": "display_data"
    }
   ],
   "source": [
    "import numpy as np\n",
    "import matplotlib.pyplot as plt\n",
    "\n",
    "Lambda = 10\n",
    "x = np.arange(poisson.ppf(0.01, Lambda), poisson.ppf(0.99, Lambda))\n",
    "\n",
    "fig, (ax1, ax2) = plt.subplots(1, 2, figsize = (12,4))\n",
    "\n",
    "ax1.plot(x, poisson.pmf(x,Lambda), 'bo', label = 'Poisson pmf')\n",
    "ax1.vlines(x, 0, poisson.pmf(x,Lambda), colors = 'b', lw = 0.5, alpha = 0.8)\n",
    "ax1.set_title('Función de probabilidad')\n",
    "\n",
    "ax2.plot(x, poisson.cdf(x,Lambda), 'bo', label = 'Poisson cdf')\n",
    "x_step = [0] + list(x) + [18]\n",
    "y_step = [0] + list(poisson.cdf(x,Lambda)) + [1]\n",
    "ax2.step(x_step, y_step, where='post', ls = '--',color ='b', lw = 0.5, alpha = 0.7)\n",
    "ax2.set_title('Función de densidad')\n",
    "\n",
    "ax1.grid(alpha = 0.2)\n",
    "ax2.grid(alpha = 0.2)\n",
    "fig.suptitle('Distribución de Poisson')\n",
    "plt.show()"
   ]
  },
  {
   "cell_type": "markdown",
   "id": "9788bc45-0fc6-43fa-b27c-7187084522aa",
   "metadata": {},
   "source": [
    "# Ejemplo 1\n",
    "**Número de impactos de insectos en la visera de un casco de un conductor de fórmula 1.**\n",
    "\n",
    "La idea es que el número de insectos está igualmente repartido por todo el circuíto y de promedio impactan $\\lambda > 0$ insectos por minuto. También es razonable suponer que:\n",
    "\n",
    "* Podemos dividir la superficie de la visera en cuadrados suficientemente pequeños de forma que la probabilidad de que caigan dos insectos en la misma zona es practicamente 0.\n",
    "* Un insecto impacte en un cuadrado cualquiera de la visera es independiente de cualquier otro cuadrado.\n",
    "* Si hemos dividido la visera en $n$ cuadrados, la probabilidad $p_n$ de unoacde de un cuadrado es $p_n = \\frac{\\lambda}{n}$\n",
    "\n",
    "Bajo estas condiciones si denotamos por $X_t = \\{ \\text{el número de insectos que ha impactado en la visera en el intervalo (0,t] }\\}$ podemos afirmar que $X_t$ es un proceso de Poisson.\n",
    "\n",
    "Supongamos que $\\lambda = 3$ insectos por minuto. Entonces el Proceso de Poisson seguirá una ley $Po(3 \\cdot t)$.\n",
    "\n",
    "¿Cuál es la probabilidad de que en 10 minutos impacten más de 25 mosquitos?\n",
    "\n",
    "La probabilidad de que en 10 minutos impacten más de 25 mosquitos, es la probabilidad de que la v.a tome un valor superior a 25, es decir, 26 o superior. A su vez, esto es 1- la probabilidad de que la v.a. tome el valor 25 o inferior, para una $\\lambda \\cdot t = 3 \\cdot 10 = 30$.\n",
    "\n",
    "$P(X>25) = P(X \\geq 26) = 1- P(X \\leq 25)$ "
   ]
  },
  {
   "cell_type": "code",
   "execution_count": 91,
   "id": "0e736ce6-446a-46e1-a84b-975464321356",
   "metadata": {},
   "outputs": [
    {
     "name": "stdout",
     "output_type": "stream",
     "text": [
      "La probabilidad de que impacten más de 25 mosquitos en 10 minutos es del 79.16%\n"
     ]
    }
   ],
   "source": [
    "prob = (1- poisson.cdf(25,30))*100\n",
    "print(f\"La probabilidad de que impacten más de 25 mosquitos en 10 minutos es del {prob:.2f}%\")"
   ]
  },
  {
   "cell_type": "markdown",
   "id": "de4f67d9-2865-4acd-8408-9e57a9625a2a",
   "metadata": {},
   "source": [
    "Otra pregunta interesante es que tengamos que esperar más de 2 minutos para observar el primer impacto.\n",
    "Es decir, que no se produzcan impactos en los primeros 2 minutos, $P(X_2 = 0)$\n",
    "\n",
    "$$P(X_2 = 0) = \\frac{(3 \\cdot 2)^0}{0!} \\cdot e^{-3 \\cdot 2} = e^{-6}$$"
   ]
  },
  {
   "cell_type": "code",
   "execution_count": 98,
   "id": "bd06efff-dcbc-4d71-82d2-63ba0b9fbc2d",
   "metadata": {},
   "outputs": [
    {
     "name": "stdout",
     "output_type": "stream",
     "text": [
      "P(X2=0) =\tcon formula: 0.00248 \tcon scipy 0.00248\n"
     ]
    }
   ],
   "source": [
    "lambda_t = 3*2\n",
    "x = 0\n",
    "formula = lambda_t**x/factorial(x)*np.exp(-lambda_t)\n",
    "\n",
    "scipy = poisson.pmf(x,lambda_t)\n",
    "\n",
    "print(f'P(X2=0) =\\tcon formula: {formula:.5f} \\tcon scipy {scipy:.5f}')"
   ]
  },
  {
   "cell_type": "markdown",
   "id": "84ece774-51c0-4806-90f8-429de6f2acea",
   "metadata": {},
   "source": [
    "# Ejemplo 2\n",
    "\n",
    "Vamos a analizar un proceso de Poisson de parámetro $\\lambda$. Tenemos $X_S \\sim Po(\\lambda \\cdot s)$, un proceso de Poisson de parámetro $\\lambda \\cdot s$ y que por tanto se estudia en el intervalo $(0,s]$.\n",
    "\n",
    "Si llamamos $S = \\{ \\text{tiempo hasta la segunda incidencia}\\}$, nos interesa hallar la función de densidad de esta variable aleatoria.\n",
    "\n",
    "Si $S$ es el tiempo hasta la segunda incidencia de un proceso de Poisson, y la variable $X_S$ cuenta el número de sucesos en el intervalo $(0,s]$, ya sabemos que existe una relación bastante estrecha entre la una y al otra.\n",
    "\n",
    "Vamos a demostrarla.\n",
    "\n",
    "Observad que es exactamente lo mismo hablar de *tiempo* que hablar de *sucesos en un intervalo de tiempo*.\n",
    "Voy a definir dos sucesos:\n",
    "* Suceso $\\{ S>s\\}$: tener que esperar un tiempo mayor a $s$ hasta observar la segunda incidencia.\n",
    "* Suceso $\\{ X_S \\leq 1\\}$:  Proceso de Poisson en un intervalo $(0,s]$ en el que han ocurrido o bien un suceso o menos.\n",
    "\n",
    "\n",
    "De modo que si yo analizo el suceso $\\{ S>s\\}$, sería lo mismo que decir que en un proceso de Poisson en un intervalo $(0,s]$ han ocurrido o bien un suceso o menos.\n",
    "\n",
    "$$\\{ S>s\\} = \\{ X_S \\leq 1\\}$$\n",
    "\n",
    "Aquí estamos relacionando algo **discreto** (derecha) con algo **continuo** (izquierda).\n",
    "\n",
    "Pero, es que si en un tiempo $t=s$, no ha tenido lugar la segunda incidencia en el proceso de Poisson que cuenta el número de sucesos en el intervalo $(0,s]$, es lo mismo que decir que hay que esperar un tiempo $s$ por lo menos hasta observar la segunda incidencia.\n",
    "\n",
    "En este caso, prodríamos calcular la probabilidad de que $S>s$, calculando exactamente la probabilidad de que $X_S$ sea menor o igual a 1, $P(X_S \\leq 1)$.\n",
    "\n",
    "$$P(S>s) = P(X_S \\leq 1) = P(X=0) + P(X=1)$$\n",
    "$$= \\frac{(\\lambda s)^0}{0!}e^{- \\lambda s} + \\frac{(\\lambda s)^1}{1!}e^{- \\lambda s} = e^{- \\lambda s}(1+ \\lambda s) \\hspace{1.5em} \\forall s > 0$$\n",
    "\n",
    "De esta última expresion, se puede hallar la función de distribución y la función de densidad de la v.a. $s$ porque si tomo $P(S>s) = e^{- \\lambda s}(1+ \\lambda s)$ es igual a 1 menos la función de distribución de la v.a. $s$, $F_S(s)$\n",
    "\n",
    "$$F_S(s) = 1 - P(S>s) = 1 - e^{- \\lambda s}(1+ \\lambda s) \\hspace{1.5em} \\forall s > 0 $$\n",
    "\n",
    "La función de densidad es la derivada de la función de distribución:\n",
    "\n",
    "$$f_s(s) = F'_S(s) = 0 + \\lambda e^{- \\lambda s}(1+ \\lambda s) - e^{- \\lambda s}(0+ \\lambda )  $$\n",
    "$$f_s(s) =  \\lambda^2 s e^{- \\lambda s} \\hspace{1.5em} \\forall s > 0$$\n",
    "\n",
    "Así ue aquí tendríamos la función de densidad de esta v.a. $s$ para estudiar el tiempo hasta la segunda incidencia de un proceso de poisson. Esto es un ejemplo de como relacionar continuas y discretas a partir de establecer la relación, en este caso en número de sucesos por unidad de tiempo, o el tiempo que hay que esperar entre dos sucesos consecutivos."
   ]
  },
  {
   "cell_type": "markdown",
   "id": "679cc1fd-7471-4a35-9932-88cd3c1fcd35",
   "metadata": {},
   "source": [
    "# Ejemplo 3\n",
    "\n",
    "Vamos a generalizar el ejemplo anterior.\n",
    "\n",
    "Tenemos $X_S$ un proceso de Poisson de parámetros $\\lambda \\cdot s $ que estudia el número de sucesos en el intervalo $(0,s]$ con $s$ positivo.\n",
    "\n",
    "$$X_S \\sim Po(\\lambda \\cdot s) = \\text{# sucesos en (0,s]}, s>0$$\n",
    "\n",
    "Vamos a fabricar la v.a. $T_r$ que es el tiempo que pasa hasta que ocurre la $r$-ésima incidencia en un proceso de poisson.\n",
    "\n",
    "$$T_r \\sim \\text{tiempo hasta la incidencia número r en el proceso de Poisson}, r \\geq 1$$\n",
    "\n",
    "La idea es hallar cual sería la densidad de la v.a. $T_r$, llamémosle $f_{T_r}$. Esta $f_{T_r}$ es la **distribución gamma**.\n",
    "\n",
    "El suceso $\\{ T_r > s\\}$, que haya que esperar en una v.a $T_r$ más que un tiempo $s$ es equivalente a decir que en el intervalo de tiempo $(0,s]$ han ocurrido **menos** de $r$ sucesos. Esto sería lo mismo que decir que una variable de poisson que cuenta el número de sucesos en un intervalo $(0,s]$ es menor que $r$.\n",
    "\n",
    "Pero como estoy en el caso discreto:\n",
    "\n",
    "$$\\{ T_r > s\\} = \\{ X_S < r\\} = \\{X_S \\leq r-1\\}$$\n",
    "\n",
    "\n",
    "<div>  <center> <img src=\"poisson_gamma.jpg\" alt=\"Drawing\" style=\"width: 500px;\"/></center></div> \n",
    "\n",
    "\n",
    "Por tanto, la probabilidad de que la v.a. $T_r$ tome un valor superior a $s$, es lo mismo que la probabilidad de que la v.a. $X_r$ tome un valor inferior a r, que en el caso discreto será $r-1$. Lo que es lo mismo a sumar todas las probabilidades de que $X_s$ tome valores inferiores a $r-1$\n",
    "\n",
    "$$P(T_r > s) = P(X_S \\leq r-1) = \\sum^{r-1}_{i=0} P(X_S=i) = \\sum^{r-1}_{i=0} \\frac{(\\lambda s)^i}{i!}e^{- \\lambda s}$$\n",
    "\n",
    "A partir de esta expresión se pueden hallar la función  de probabilidad $f_{T_r}(s)$ y la función de distribución $F_{T_r}(s)$\n",
    "\n",
    "$$F_{T_r}(s) = 1-P(T_r > s) = 1-\\sum^{r-1}_{i=0} \\frac{(\\lambda s)^i}{i!}e^{- \\lambda s}$$\n",
    "\n",
    "$$f_{T_r}(s) = F'_{T_r}(s) = 0 + \\lambda e^{- \\lambda s} \\cdot \\sum^{r-1}_{i=0} \\frac{(\\lambda s)^i}{i!}-e^{- \\lambda s} \\cdot\\sum^{r-1}_{i=0} \\frac{i(\\lambda s)^{i-1} \\lambda}{i!} =\\lambda e^{- \\lambda s} (\\sum^{r-1}_{i=0} \\frac{(\\lambda s)^i}{i!}-\\sum^{r-2}_{i=0} \\frac{(\\lambda s)^i}{i!}) = \\lambda e^{- \\lambda s} \\cdot \\frac{(\\lambda s)^{r-1}}{(r-1)!}  $$\n",
    "\n",
    "Simplificando, lo que queda es la distribución gamma, $\\Gamma$: $$f_{T_r}(s)= e^{- \\lambda s} \\cdot \\frac{\\lambda^r s^{r-1}}{(r-1)!}$$"
   ]
  },
  {
   "cell_type": "markdown",
   "id": "5b31010c-6149-461d-96f3-14060af8dfff",
   "metadata": {},
   "source": [
    "# Ejemplo\n",
    "\n",
    "En una fábrica ocurre 1 accidente de media cada 2 meses. Suponiendo que los accidentes no estan relacionados entre ellos, ¿cuál es el número de accidentes esperados en un año?\n",
    "\n",
    "¿Cual es la desviación esperada de los accidentes?\n",
    "¿Cuál es la probabilidad de que no haya accidentes en un mes?"
   ]
  },
  {
   "cell_type": "code",
   "execution_count": null,
   "id": "69580f63-35a4-4761-9e83-284644d0e382",
   "metadata": {},
   "outputs": [],
   "source": []
  }
 ],
 "metadata": {
  "kernelspec": {
   "display_name": ".venv",
   "language": "python",
   "name": ".venv"
  },
  "language_info": {
   "codemirror_mode": {
    "name": "ipython",
    "version": 3
   },
   "file_extension": ".py",
   "mimetype": "text/x-python",
   "name": "python",
   "nbconvert_exporter": "python",
   "pygments_lexer": "ipython3",
   "version": "3.10.8"
  }
 },
 "nbformat": 4,
 "nbformat_minor": 5
}
