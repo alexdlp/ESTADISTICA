{
 "cells": [
  {
   "cell_type": "markdown",
   "id": "e04407f8-96b8-4c82-a2ca-7731259353ac",
   "metadata": {},
   "source": [
    "# Problemas de Poisson \n",
    "\n",
    "## Problema 2\n",
    "\n",
    "A una estación de servicio llegan trabajos de dos tipos: $A$ y $B$ (se pueden procesar simultáneamente todos los trabajos que llegan). Las llegadas de los dos tipos de trabajos son procesos de Poisson independientes de tasas $\\lambda_A = 3$ y $\\lambda_B = 4$ trabajos por minuto respectivamente. Los trabajos de tipo $A$ se quedan en el servidor durante un minuto exactamente. Los de tipo $B$ se quedan en el servidor durante un número (entero) aleatorio de minutos, el cual tiene distribución geométrica con media igual a 2, e independiente en todo lo demás. La estación de servicio comenzó a operar en algún instante dade del pasado remoto."
   ]
  },
  {
   "cell_type": "markdown",
   "id": "7e5f8d0f-8e9b-4b92-b0c0-8e8a62c895da",
   "metadata": {},
   "source": [
    " ### a) ¿Cuál es la media, la varianza y la función de  masa de probabilidad asociada al número de trabajos que llegan durante un intervalo de 3 minutos?\n",
    " \n",
    " Voy a llamar:\n",
    " \n",
    "* Trabajos de tipo $A$: $(N_A (t), t \\geq 0)$, Proceso de poisson de tasa $\\lambda_A = 3$\n",
    "* Trabajos de tipo $B$: $(N_B (t), t \\geq 0)$, Proceso de poisson de tasa $\\lambda_B = 4$\n",
    "* Total trabajos que llegan al servidor: $(N' (t) = N_1(t)+N_2(t), t \\geq 0)$, Proceso de poisson de tasa $\\lambda_A + \\lambda_B =  \\lambda'= 7$\n",
    "\n",
    "**esto último se piede demostración en el problema 5. La suma de procesos de Poisson independientes es un proceso de Poisson** De momento la damos como cierta.\n",
    "\n",
    "\n",
    "Si la tasa por unidad de tiempo es $\\lambda' = 7$, $N'(3)$ es una distribución de Poisson de parámetro 21 con $E[N'(3)] = Var[N'(3)] = 21$. Y la función de masa de probabilidad: \n",
    "\n",
    "$$P_X(x)=e^{- 21}  \\frac{21^x}{x!} $$\n"
   ]
  },
  {
   "cell_type": "markdown",
   "id": "102e78c1-fbbb-4e39-8957-5bcd1629b45e",
   "metadata": {},
   "source": [
    "### b) Nos han informado de que, durante un interalo de 10 minutos, han llegado exactamente 10 trabajado. ¿Cuál es la probabilidad de que exactamente 3 de ellos sean de tipo A?\n",
    "\n",
    "$$P(N_A(10)=3|N'(10) = 10) = \\xrightarrow{\\frac{\\text{probabilidad de la intersección}}{\\text{probabilidad del condicionante}}} \\frac{P(N_A(10) = 3, N_B(10)=7)}{P(N'(10)=10)}$$\n",
    "\n",
    "$$\\frac{\\frac{e^{-30}30^3}{3!} \\frac{e^{-40}40^7}{7!}}{\\frac{e^{-70}70^10}{10!}}=\\binom{10}{3} \\left( \\frac{3}{7} \\right)^3 \\left( \\frac{4}{7} \\right)^7$$\n",
    "\n",
    "Observamos que la probabilidad que obtenemos es la probabilidad de obtener 3 éxitos en una binomial $B(10,3/7)$"
   ]
  },
  {
   "cell_type": "markdown",
   "id": "fc79b2f1-7354-4a6e-a7b0-13d178c5c76e",
   "metadata": {},
   "source": [
    "### c) En el instante en el que empezamos a obsevar el proceso, no hay trabajos de ningún tipo. Calcular la función de masa de probabilidad asociada al número de trabajos de tipo B que llegan antes de que llegue el primer trabajo del tipo A.\n",
    "\n",
    "*Ayuda:* Para este apartado es útil tener en cuenta la siguiente propiedad (demuéstrala): Sean $X_1,...,X_n,Y$ v.a independientes con distribución exponencial, las $n$ primeras de parámetro $\\lambda$ y la útlima de parámetro $\\mu$: $P(\\sum_{i=1}^n X_i < Y)=\\left( \\frac{\\lambda}{\\lambda + \\mu} \\right)^n$\n",
    "\n",
    "Tenemos que calcular la distribución de la variable $N = \\text{Número de trabajos de tipo B llegados antes del primero de tipo A}$. Tenemos:\n",
    "* $X_1,...,X_n$ tiempos entre llegadas de los trabajos de tipo $B$.\n",
    "* $Y$: primera llegada de un trabajo de tipo $A$.\n",
    "\n",
    "Primero, nos fijamos en que el número de trabajos de tipo $B$ que llegan será mayor que $n$ si y solo si la $n$-ésima llegada de los trabajos de tipo $B$ es menor que $Y$.\n",
    "\n",
    "$$\\{N \\geq n\\} \\iff X_1,...,X_n < Y $$\n",
    "\n",
    "Entonces puedo calcular el suceso mayor que $N$ teniendo en cuenta esta relación. Aplico la ayuda directamente:\n",
    "\n",
    "$$P(N \\geq n) = P(X_1 +... +X_n < Y) = \\left(  \\frac{\\lambda_B}{\\lambda_B + \\lambda_A} \\right)^n$$\n",
    "\n",
    "Aplicando esta fórmula para $n=0,1,...$:\n",
    "\n",
    "$$P(N=n) = P(N \\geq n)-P(N \\geq n+1)$$\n",
    "$$= \\left( \\frac{\\lambda_B}{\\lambda_B + \\lambda_A} \\right)^n \\left( \\frac{\\lambda_B}{\\lambda_B + \\lambda_A} \\right)^{n+1} $$\n",
    "$$=  \\left( \\frac{\\lambda_B}{\\lambda_B + \\lambda_A} \\right)^n \\left( \\frac{\\lambda_A}{\\lambda_B + \\lambda_A} \\right) $$\n",
    "que es una $geométrica_0$\n",
    "\n",
    "Además me piden demostrar la ayuda. Esta se puede demostrar de manera bastante corta. Tengamos en cuenta quetenemos una $Y$ exponencial de parámetro $\\lambda$  y entonces, $P(Y > x) = e^{-\\mu x}$. Por lo que:\n",
    "\n",
    "\n",
    "Por otro lado tenemos $( X_1+...+X_n)$, que son exponenciales de parámetro $\\lambda$, queremos calcular la probabilidad de que $Y$ se mayor a la suma de esas exponenciales. Esto es la funcion de supervivencia de la exponencial pero en vez de en un punto determinístico, en un punto aleatorio. Entonces la experesión será el valor esperado de $e^{-\\mu}$ en ese punto aleatorio.\n",
    "\n",
    "Y ese valor esperado coincide con $\\left( \\frac{\\lambda}{\\lambda + \\mu} \\right)^n$\n",
    "\n",
    "$$P(Y > X_1+...+X_n)= E[e^{-\\mu(X_1+...+X_n)}] =  \\left( \\frac{\\lambda}{\\lambda + \\mu} \\right)^n$$\n",
    "\n",
    "¿Por qué? Porque la suma de exponenciales es $\\Gamma$ y $E[e^{-\\mu(X_1+...+X_n)}] $ es la función generatriz de una $\\Gamma$ aplicada en el punto $-\\mu$"
   ]
  },
  {
   "cell_type": "markdown",
   "id": "5febc4ea-627a-4361-9910-cee7a00fe4d3",
   "metadata": {},
   "source": [
    "# Problema 3\n",
    "\n",
    "Las demandas de un determiando producto a una almacén llegan de acuerdo con un proceso de Poisson de tasa $\\lambda$ demandas por hora. Dado que se han realizado $n$ demandas en un intervalo de tiempo de $t$ horas $(t>1)$, \n",
    "\n",
    "### encontrar la probabilidad de que al menos $k$ demandas hayan sido realizadas durante la primera hora. \n",
    "\n",
    "* Tenemos $(N(t), t \\geq 0)$ un proceos de poisson que describe las demandas.\n",
    "* Sabiendo que el número de demandas en $t$ horas es $N(t)=n$ y aplicando el teorema 3.1., tenemos que los tiempo de llegada se distribuyen como los estadísticos ordenados de una muestra $Y_1,...,Y_n$ v.a. uniformes en $(0,t)$\n",
    "\n",
    "Por tanto, la probabilidad que nos piden es que al menos $k$ demandas hayan llegado antes de la primera hora (la llegada de la $k$-ésima demanda sea antes de la hora dado que sabemos que $N(t)=n$. Aplicando la propiedad de los estadísticos ordenados esta probabilidad se calcularía como la probabilidad de que el estadístico  ordenado $k$-ésimo de esta muestra fuese inferior a 1.\n",
    "\n",
    "$$P(S_K < 1 | N(t) = n)= P(Y_{(k)} < 1)$$\n",
    "\n",
    "Para calculara vamos a usar el *truco* de recurrir a la muestra de uniformes inicial. Dada una $Y_i$ concreta, llamaré éxito al hecho de que $Y_i<1$ y fracaso a lo contrario. La probabilidad de éxito es longitud favorable entre longitud posible:\n",
    "$$P(Y_i < 1) = \\frac{1}{t}$$\n",
    "\n",
    "Ahora, puedo definir la variable $N = \\text{número de éxitos}$, que es una $B(n, 1/t)$. Entonces, el estadístico ordenado $k$-ésimo sera menor 1 si y solo si el número de éxitos es mayor o igual que $k$:\n",
    "$$Y_{(k)} < 1 \\iff N \\geq k$$\n",
    "\n",
    "Ahora, simplemente teniendo en cuenta esto, tengo que sumar las probabilidades binomiales correspondientes. Probabilidad de $Y_{(k)} < 1$ será la probabilidad de que una binomial sea mayor o igual que $k$, que es la suma de los pesos de la binomial desde $k$ hasta $t$ (t?????)\n",
    "\n",
    "$$P(Y_{(k)} < 1)=\\sum_{i=k}^n \\binom{n}{k} \\left( \\frac{1}{t} \\right)^i \\left( \\frac{t-1}{t} \\right)^{n-i}$$\n",
    "\n",
    "### ¿Es esta probabilidad condicional diferente si el inicio del periodo de 1 hora se elige de acuerdo con una densidad cualquiera $f(s)$ sobre el intervalo $[0,t-1]$?\n",
    "\n",
    "Sabiendo que han sucedido $n$ demandas en un intervalo de longitud $t$ medido desde $s$, queremos calcular la probabilidad de que las $k$ primeras estén dentro de la primera hora de este intervalo.\n",
    "\n",
    "La respuesta es que no, esa probabilidad no varía. Pensando en determinístico, si tomo un $s$ arbitrario, la probabilidad no varía porque desde $s$ en adelante, vuelvo a observar un proceso de poisson como al inicio. \n",
    "\n",
    "Si $s$ se elige en $[0,t-1]$ de acuerdo con una densidad $f$, la probabilidad tampoco varía porque en ese caso lo que tendria que calcular es la probabilidad asociada a $s$, que es $p$, e integrarla con respecto a la función de densidad. Pero como $p$ es constante, esta integral daría $p$, y por tanto, la probabilidad no varía.\n",
    "\n",
    "$$\\int_0^{t-1}pf(s)ds=p$$"
   ]
  },
  {
   "cell_type": "markdown",
   "id": "e3fddd70-d22f-48d7-b373-133fbc96e997",
   "metadata": {},
   "source": [
    "# Problema 4 - renovación\n",
    "\n",
    "Los coches pasan por un punto determinado de una calle según un proceso de Poisson de parámetro $\\lambda$. Una mujer quiere cruzar la calle en ese punto, y su estrategia es esperar hasta que observa que no va a pasar ningún coche en $T$ unidades de tiempo.\n",
    "\n",
    "### Encontrar la probabilidad de que no tenga que esperar\n",
    "### Encontrar el tiempo de espera promedio"
   ]
  }
 ],
 "metadata": {
  "kernelspec": {
   "display_name": "Python 3 (ipykernel)",
   "language": "python",
   "name": "python3"
  },
  "language_info": {
   "codemirror_mode": {
    "name": "ipython",
    "version": 3
   },
   "file_extension": ".py",
   "mimetype": "text/x-python",
   "name": "python",
   "nbconvert_exporter": "python",
   "pygments_lexer": "ipython3",
   "version": "3.10.8"
  }
 },
 "nbformat": 4,
 "nbformat_minor": 5
}
